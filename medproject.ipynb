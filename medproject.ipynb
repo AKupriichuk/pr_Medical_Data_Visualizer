{
  "nbformat": 4,
  "nbformat_minor": 0,
  "metadata": {
    "colab": {
      "provenance": [],
      "authorship_tag": "ABX9TyNzBV7wfKVImFko76TKQPlt",
      "include_colab_link": true
    },
    "kernelspec": {
      "name": "python3",
      "display_name": "Python 3"
    },
    "language_info": {
      "name": "python"
    }
  },
  "cells": [
    {
      "cell_type": "markdown",
      "metadata": {
        "id": "view-in-github",
        "colab_type": "text"
      },
      "source": [
        "<a href=\"https://colab.research.google.com/github/AKupriichuk/pr_Medical_Data_Visualizer/blob/main/medproject.ipynb\" target=\"_parent\"><img src=\"https://colab.research.google.com/assets/colab-badge.svg\" alt=\"Open In Colab\"/></a>"
      ]
    },
    {
      "cell_type": "markdown",
      "source": [
        "**Цей проект має на меті:**\n",
        "\n",
        "1) порівняти роботу бібліотек scipy.stats та pingouin - це бібліотеки для статистичних тестів\n",
        "\n",
        "2) виконати тест анова та непарметричний анова (Kruskal-Wallis) і порівняти їх результати\n",
        "\n",
        "3) Створити діаграму, яка досліджує зв'язок між різними категоріальними змінними (холестерин, глюкоза, куріння, вживання алкоголю, активність та наявність зайвої ваги) та серцево-судинними захворюваннями\n",
        "\n",
        "4) і візуалізувати карту кореляцій"
      ],
      "metadata": {
        "id": "n9Yi0hhKohzb"
      }
    },
    {
      "cell_type": "code",
      "source": [
        "!pip install pingouin"
      ],
      "metadata": {
        "colab": {
          "base_uri": "https://localhost:8080/"
        },
        "id": "i0IjUb27Uqwd",
        "outputId": "35e98c1e-906d-4227-8ce8-daf65f9a4c5e"
      },
      "execution_count": 2,
      "outputs": [
        {
          "output_type": "stream",
          "name": "stdout",
          "text": [
            "Requirement already satisfied: pingouin in /usr/local/lib/python3.10/dist-packages (0.5.4)\n",
            "Requirement already satisfied: numpy in /usr/local/lib/python3.10/dist-packages (from pingouin) (1.25.2)\n",
            "Requirement already satisfied: scipy in /usr/local/lib/python3.10/dist-packages (from pingouin) (1.11.4)\n",
            "Requirement already satisfied: pandas>=1.5 in /usr/local/lib/python3.10/dist-packages (from pingouin) (2.0.3)\n",
            "Requirement already satisfied: matplotlib in /usr/local/lib/python3.10/dist-packages (from pingouin) (3.7.1)\n",
            "Requirement already satisfied: seaborn in /usr/local/lib/python3.10/dist-packages (from pingouin) (0.13.1)\n",
            "Requirement already satisfied: statsmodels in /usr/local/lib/python3.10/dist-packages (from pingouin) (0.14.2)\n",
            "Requirement already satisfied: scikit-learn in /usr/local/lib/python3.10/dist-packages (from pingouin) (1.2.2)\n",
            "Requirement already satisfied: pandas-flavor in /usr/local/lib/python3.10/dist-packages (from pingouin) (0.6.0)\n",
            "Requirement already satisfied: tabulate in /usr/local/lib/python3.10/dist-packages (from pingouin) (0.9.0)\n",
            "Requirement already satisfied: python-dateutil>=2.8.2 in /usr/local/lib/python3.10/dist-packages (from pandas>=1.5->pingouin) (2.8.2)\n",
            "Requirement already satisfied: pytz>=2020.1 in /usr/local/lib/python3.10/dist-packages (from pandas>=1.5->pingouin) (2023.4)\n",
            "Requirement already satisfied: tzdata>=2022.1 in /usr/local/lib/python3.10/dist-packages (from pandas>=1.5->pingouin) (2024.1)\n",
            "Requirement already satisfied: contourpy>=1.0.1 in /usr/local/lib/python3.10/dist-packages (from matplotlib->pingouin) (1.2.1)\n",
            "Requirement already satisfied: cycler>=0.10 in /usr/local/lib/python3.10/dist-packages (from matplotlib->pingouin) (0.12.1)\n",
            "Requirement already satisfied: fonttools>=4.22.0 in /usr/local/lib/python3.10/dist-packages (from matplotlib->pingouin) (4.51.0)\n",
            "Requirement already satisfied: kiwisolver>=1.0.1 in /usr/local/lib/python3.10/dist-packages (from matplotlib->pingouin) (1.4.5)\n",
            "Requirement already satisfied: packaging>=20.0 in /usr/local/lib/python3.10/dist-packages (from matplotlib->pingouin) (24.0)\n",
            "Requirement already satisfied: pillow>=6.2.0 in /usr/local/lib/python3.10/dist-packages (from matplotlib->pingouin) (9.4.0)\n",
            "Requirement already satisfied: pyparsing>=2.3.1 in /usr/local/lib/python3.10/dist-packages (from matplotlib->pingouin) (3.1.2)\n",
            "Requirement already satisfied: xarray in /usr/local/lib/python3.10/dist-packages (from pandas-flavor->pingouin) (2023.7.0)\n",
            "Requirement already satisfied: joblib>=1.1.1 in /usr/local/lib/python3.10/dist-packages (from scikit-learn->pingouin) (1.4.0)\n",
            "Requirement already satisfied: threadpoolctl>=2.0.0 in /usr/local/lib/python3.10/dist-packages (from scikit-learn->pingouin) (3.4.0)\n",
            "Requirement already satisfied: patsy>=0.5.6 in /usr/local/lib/python3.10/dist-packages (from statsmodels->pingouin) (0.5.6)\n",
            "Requirement already satisfied: six in /usr/local/lib/python3.10/dist-packages (from patsy>=0.5.6->statsmodels->pingouin) (1.16.0)\n"
          ]
        }
      ]
    },
    {
      "cell_type": "code",
      "source": [
        "import pandas as pd\n",
        "import seaborn as sns\n",
        "from scipy import stats\n",
        "import matplotlib.pyplot as plt\n",
        "import numpy as np\n",
        "import pingouin as pg\n"
      ],
      "metadata": {
        "id": "TmYWwf_Vo76U"
      },
      "execution_count": 3,
      "outputs": []
    },
    {
      "cell_type": "code",
      "source": [
        "# Import data\n",
        "df = pd.read_csv('medical_examination.csv')"
      ],
      "metadata": {
        "id": "5oGnnAARt4Zg"
      },
      "execution_count": 4,
      "outputs": []
    },
    {
      "cell_type": "markdown",
      "source": [
        "Базова статистика"
      ],
      "metadata": {
        "id": "bdo5mZf7vKEC"
      }
    },
    {
      "cell_type": "code",
      "source": [
        "print(df.head())\n",
        "df.info()\n",
        "print(df.describe())"
      ],
      "metadata": {
        "colab": {
          "base_uri": "https://localhost:8080/"
        },
        "id": "yEv3RZt2vISn",
        "outputId": "d7d2f00f-a9e7-4a76-c45c-5a70807040e5"
      },
      "execution_count": 5,
      "outputs": [
        {
          "output_type": "stream",
          "name": "stdout",
          "text": [
            "   id    age  sex  height  weight  ap_hi  ap_lo  cholesterol  gluc  smoke  \\\n",
            "0   0  18393    2     168    62.0    110     80            1     1      0   \n",
            "1   1  20228    1     156    85.0    140     90            3     1      0   \n",
            "2   2  18857    1     165    64.0    130     70            3     1      0   \n",
            "3   3  17623    2     169    82.0    150    100            1     1      0   \n",
            "4   4  17474    1     156    56.0    100     60            1     1      0   \n",
            "\n",
            "   alco  active  cardio  \n",
            "0     0       1       0  \n",
            "1     0       1       1  \n",
            "2     0       0       1  \n",
            "3     0       1       1  \n",
            "4     0       0       0  \n",
            "<class 'pandas.core.frame.DataFrame'>\n",
            "RangeIndex: 70000 entries, 0 to 69999\n",
            "Data columns (total 13 columns):\n",
            " #   Column       Non-Null Count  Dtype  \n",
            "---  ------       --------------  -----  \n",
            " 0   id           70000 non-null  int64  \n",
            " 1   age          70000 non-null  int64  \n",
            " 2   sex          70000 non-null  int64  \n",
            " 3   height       70000 non-null  int64  \n",
            " 4   weight       70000 non-null  float64\n",
            " 5   ap_hi        70000 non-null  int64  \n",
            " 6   ap_lo        70000 non-null  int64  \n",
            " 7   cholesterol  70000 non-null  int64  \n",
            " 8   gluc         70000 non-null  int64  \n",
            " 9   smoke        70000 non-null  int64  \n",
            " 10  alco         70000 non-null  int64  \n",
            " 11  active       70000 non-null  int64  \n",
            " 12  cardio       70000 non-null  int64  \n",
            "dtypes: float64(1), int64(12)\n",
            "memory usage: 6.9 MB\n",
            "                 id           age           sex        height        weight  \\\n",
            "count  70000.000000  70000.000000  70000.000000  70000.000000  70000.000000   \n",
            "mean   49972.419900  19468.865814      1.349843    164.359229     74.205690   \n",
            "std    28851.302323   2467.251667      0.477253      8.210126     14.395757   \n",
            "min        0.000000  10798.000000      1.000000     55.000000     10.000000   \n",
            "25%    25006.750000  17664.000000      1.000000    159.000000     65.000000   \n",
            "50%    50001.500000  19703.000000      1.000000    165.000000     72.000000   \n",
            "75%    74889.250000  21327.000000      2.000000    170.000000     82.000000   \n",
            "max    99999.000000  23713.000000      3.000000    250.000000    200.000000   \n",
            "\n",
            "              ap_hi         ap_lo   cholesterol          gluc         smoke  \\\n",
            "count  70000.000000  70000.000000  70000.000000  70000.000000  70000.000000   \n",
            "mean     128.817286     96.630414      1.366871      1.226457      0.088129   \n",
            "std      154.011419    188.472530      0.680250      0.572270      0.283484   \n",
            "min     -150.000000    -70.000000      1.000000      1.000000      0.000000   \n",
            "25%      120.000000     80.000000      1.000000      1.000000      0.000000   \n",
            "50%      120.000000     80.000000      1.000000      1.000000      0.000000   \n",
            "75%      140.000000     90.000000      2.000000      1.000000      0.000000   \n",
            "max    16020.000000  11000.000000      3.000000      3.000000      1.000000   \n",
            "\n",
            "               alco        active        cardio  \n",
            "count  70000.000000  70000.000000  70000.000000  \n",
            "mean       0.053771      0.803729      0.499700  \n",
            "std        0.225568      0.397179      0.500003  \n",
            "min        0.000000      0.000000      0.000000  \n",
            "25%        0.000000      1.000000      0.000000  \n",
            "50%        0.000000      1.000000      0.000000  \n",
            "75%        0.000000      1.000000      1.000000  \n",
            "max        1.000000      1.000000      1.000000  \n"
          ]
        }
      ]
    },
    {
      "cell_type": "markdown",
      "source": [
        "Бачимо що вік у нас в днях, тому перводимо у роки"
      ],
      "metadata": {
        "id": "yLwQXl3cT6wq"
      }
    },
    {
      "cell_type": "code",
      "source": [
        "df['age_years'] = df['age'] / 365\n",
        "df['age_years'].head()"
      ],
      "metadata": {
        "colab": {
          "base_uri": "https://localhost:8080/"
        },
        "id": "rI72opbRNNMM",
        "outputId": "e0387915-c9ac-4664-f6f3-ea6530f5dad1"
      },
      "execution_count": 6,
      "outputs": [
        {
          "output_type": "execute_result",
          "data": {
            "text/plain": [
              "0    50.391781\n",
              "1    55.419178\n",
              "2    51.663014\n",
              "3    48.282192\n",
              "4    47.873973\n",
              "Name: age_years, dtype: float64"
            ]
          },
          "metadata": {},
          "execution_count": 6
        }
      ]
    },
    {
      "cell_type": "markdown",
      "source": [
        "Далі, тести на нормальність працюють добре до 5000 спостережень у мене їх 70000,\n",
        "тому я видалю 65001 рандомних рядків"
      ],
      "metadata": {
        "id": "TaAowCi7UCR0"
      }
    },
    {
      "cell_type": "code",
      "source": [
        "\n",
        "indexes_to_drop = np.random.choice(df.index, 65001, replace=False)\n",
        "df_dropped = df.drop(indexes_to_drop)\n",
        "print(df_dropped.head())"
      ],
      "metadata": {
        "colab": {
          "base_uri": "https://localhost:8080/"
        },
        "id": "A7R8u1Kg2yh8",
        "outputId": "b92196ac-0d9a-4fd3-c486-6fdfbad7aa4a"
      },
      "execution_count": 7,
      "outputs": [
        {
          "output_type": "stream",
          "name": "stdout",
          "text": [
            "    id    age  sex  height  weight  ap_hi  ap_lo  cholesterol  gluc  smoke  \\\n",
            "14  23  14532    2     181    95.0    130     90            1     1      1   \n",
            "25  36  14453    1     153    65.0    130    100            2     1      0   \n",
            "26  37  19559    1     156    59.0    130     90            1     1      0   \n",
            "53  68  14507    1     165    77.0    135     90            3     3      0   \n",
            "55  70  21787    2     165    73.0    125     90            1     1      0   \n",
            "\n",
            "    alco  active  cardio  age_years  \n",
            "14     1       1       0  39.813699  \n",
            "25     0       1       0  39.597260  \n",
            "26     0       1       0  53.586301  \n",
            "53     0       1       1  39.745205  \n",
            "55     0       0       0  59.690411  \n"
          ]
        }
      ]
    },
    {
      "cell_type": "code",
      "source": [
        "df_dropped.info()"
      ],
      "metadata": {
        "colab": {
          "base_uri": "https://localhost:8080/"
        },
        "id": "Npv4HvlhAoK6",
        "outputId": "baa6c6b7-5305-46f0-85b8-c3f0082bc4a9"
      },
      "execution_count": 8,
      "outputs": [
        {
          "output_type": "stream",
          "name": "stdout",
          "text": [
            "<class 'pandas.core.frame.DataFrame'>\n",
            "Index: 4999 entries, 14 to 69985\n",
            "Data columns (total 14 columns):\n",
            " #   Column       Non-Null Count  Dtype  \n",
            "---  ------       --------------  -----  \n",
            " 0   id           4999 non-null   int64  \n",
            " 1   age          4999 non-null   int64  \n",
            " 2   sex          4999 non-null   int64  \n",
            " 3   height       4999 non-null   int64  \n",
            " 4   weight       4999 non-null   float64\n",
            " 5   ap_hi        4999 non-null   int64  \n",
            " 6   ap_lo        4999 non-null   int64  \n",
            " 7   cholesterol  4999 non-null   int64  \n",
            " 8   gluc         4999 non-null   int64  \n",
            " 9   smoke        4999 non-null   int64  \n",
            " 10  alco         4999 non-null   int64  \n",
            " 11  active       4999 non-null   int64  \n",
            " 12  cardio       4999 non-null   int64  \n",
            " 13  age_years    4999 non-null   float64\n",
            "dtypes: float64(2), int64(12)\n",
            "memory usage: 585.8 KB\n"
          ]
        }
      ]
    },
    {
      "cell_type": "code",
      "source": [
        "w_statistic, p_value = stats.shapiro(df_dropped['age_years'])\n",
        "print(p_value)"
      ],
      "metadata": {
        "colab": {
          "base_uri": "https://localhost:8080/"
        },
        "id": "4GUhmeKswj7T",
        "outputId": "e5bcf16a-91be-45ce-9c9c-27e60f8a6ea7"
      },
      "execution_count": 9,
      "outputs": [
        {
          "output_type": "stream",
          "name": "stdout",
          "text": [
            "1.918977446315099e-33\n"
          ]
        }
      ]
    },
    {
      "cell_type": "code",
      "source": [
        "pg.normality(df_dropped['age_years'])"
      ],
      "metadata": {
        "colab": {
          "base_uri": "https://localhost:8080/",
          "height": 81
        },
        "id": "9HrTnUsA3DP2",
        "outputId": "edfa4242-bf02-4d47-fa26-93a16a20ccf3"
      },
      "execution_count": 10,
      "outputs": [
        {
          "output_type": "execute_result",
          "data": {
            "text/plain": [
              "                  W          pval  normal\n",
              "age_years  0.964327  1.918977e-33   False"
            ],
            "text/html": [
              "\n",
              "  <div id=\"df-14881eb5-6930-412e-a730-6b02903fe749\" class=\"colab-df-container\">\n",
              "    <div>\n",
              "<style scoped>\n",
              "    .dataframe tbody tr th:only-of-type {\n",
              "        vertical-align: middle;\n",
              "    }\n",
              "\n",
              "    .dataframe tbody tr th {\n",
              "        vertical-align: top;\n",
              "    }\n",
              "\n",
              "    .dataframe thead th {\n",
              "        text-align: right;\n",
              "    }\n",
              "</style>\n",
              "<table border=\"1\" class=\"dataframe\">\n",
              "  <thead>\n",
              "    <tr style=\"text-align: right;\">\n",
              "      <th></th>\n",
              "      <th>W</th>\n",
              "      <th>pval</th>\n",
              "      <th>normal</th>\n",
              "    </tr>\n",
              "  </thead>\n",
              "  <tbody>\n",
              "    <tr>\n",
              "      <th>age_years</th>\n",
              "      <td>0.964327</td>\n",
              "      <td>1.918977e-33</td>\n",
              "      <td>False</td>\n",
              "    </tr>\n",
              "  </tbody>\n",
              "</table>\n",
              "</div>\n",
              "    <div class=\"colab-df-buttons\">\n",
              "\n",
              "  <div class=\"colab-df-container\">\n",
              "    <button class=\"colab-df-convert\" onclick=\"convertToInteractive('df-14881eb5-6930-412e-a730-6b02903fe749')\"\n",
              "            title=\"Convert this dataframe to an interactive table.\"\n",
              "            style=\"display:none;\">\n",
              "\n",
              "  <svg xmlns=\"http://www.w3.org/2000/svg\" height=\"24px\" viewBox=\"0 -960 960 960\">\n",
              "    <path d=\"M120-120v-720h720v720H120Zm60-500h600v-160H180v160Zm220 220h160v-160H400v160Zm0 220h160v-160H400v160ZM180-400h160v-160H180v160Zm440 0h160v-160H620v160ZM180-180h160v-160H180v160Zm440 0h160v-160H620v160Z\"/>\n",
              "  </svg>\n",
              "    </button>\n",
              "\n",
              "  <style>\n",
              "    .colab-df-container {\n",
              "      display:flex;\n",
              "      gap: 12px;\n",
              "    }\n",
              "\n",
              "    .colab-df-convert {\n",
              "      background-color: #E8F0FE;\n",
              "      border: none;\n",
              "      border-radius: 50%;\n",
              "      cursor: pointer;\n",
              "      display: none;\n",
              "      fill: #1967D2;\n",
              "      height: 32px;\n",
              "      padding: 0 0 0 0;\n",
              "      width: 32px;\n",
              "    }\n",
              "\n",
              "    .colab-df-convert:hover {\n",
              "      background-color: #E2EBFA;\n",
              "      box-shadow: 0px 1px 2px rgba(60, 64, 67, 0.3), 0px 1px 3px 1px rgba(60, 64, 67, 0.15);\n",
              "      fill: #174EA6;\n",
              "    }\n",
              "\n",
              "    .colab-df-buttons div {\n",
              "      margin-bottom: 4px;\n",
              "    }\n",
              "\n",
              "    [theme=dark] .colab-df-convert {\n",
              "      background-color: #3B4455;\n",
              "      fill: #D2E3FC;\n",
              "    }\n",
              "\n",
              "    [theme=dark] .colab-df-convert:hover {\n",
              "      background-color: #434B5C;\n",
              "      box-shadow: 0px 1px 3px 1px rgba(0, 0, 0, 0.15);\n",
              "      filter: drop-shadow(0px 1px 2px rgba(0, 0, 0, 0.3));\n",
              "      fill: #FFFFFF;\n",
              "    }\n",
              "  </style>\n",
              "\n",
              "    <script>\n",
              "      const buttonEl =\n",
              "        document.querySelector('#df-14881eb5-6930-412e-a730-6b02903fe749 button.colab-df-convert');\n",
              "      buttonEl.style.display =\n",
              "        google.colab.kernel.accessAllowed ? 'block' : 'none';\n",
              "\n",
              "      async function convertToInteractive(key) {\n",
              "        const element = document.querySelector('#df-14881eb5-6930-412e-a730-6b02903fe749');\n",
              "        const dataTable =\n",
              "          await google.colab.kernel.invokeFunction('convertToInteractive',\n",
              "                                                    [key], {});\n",
              "        if (!dataTable) return;\n",
              "\n",
              "        const docLinkHtml = 'Like what you see? Visit the ' +\n",
              "          '<a target=\"_blank\" href=https://colab.research.google.com/notebooks/data_table.ipynb>data table notebook</a>'\n",
              "          + ' to learn more about interactive tables.';\n",
              "        element.innerHTML = '';\n",
              "        dataTable['output_type'] = 'display_data';\n",
              "        await google.colab.output.renderOutput(dataTable, element);\n",
              "        const docLink = document.createElement('div');\n",
              "        docLink.innerHTML = docLinkHtml;\n",
              "        element.appendChild(docLink);\n",
              "      }\n",
              "    </script>\n",
              "  </div>\n",
              "\n",
              "    </div>\n",
              "  </div>\n"
            ],
            "application/vnd.google.colaboratory.intrinsic+json": {
              "type": "dataframe",
              "summary": "{\n  \"name\": \"pg\",\n  \"rows\": 1,\n  \"fields\": [\n    {\n      \"column\": \"W\",\n      \"properties\": {\n        \"dtype\": \"number\",\n        \"std\": null,\n        \"min\": 0.9643267393112183,\n        \"max\": 0.9643267393112183,\n        \"num_unique_values\": 1,\n        \"samples\": [\n          0.9643267393112183\n        ],\n        \"semantic_type\": \"\",\n        \"description\": \"\"\n      }\n    },\n    {\n      \"column\": \"pval\",\n      \"properties\": {\n        \"dtype\": \"number\",\n        \"std\": null,\n        \"min\": 1.918977446315099e-33,\n        \"max\": 1.918977446315099e-33,\n        \"num_unique_values\": 1,\n        \"samples\": [\n          1.918977446315099e-33\n        ],\n        \"semantic_type\": \"\",\n        \"description\": \"\"\n      }\n    },\n    {\n      \"column\": \"normal\",\n      \"properties\": {\n        \"dtype\": \"boolean\",\n        \"num_unique_values\": 1,\n        \"samples\": [\n          false\n        ],\n        \"semantic_type\": \"\",\n        \"description\": \"\"\n      }\n    }\n  ]\n}"
            }
          },
          "metadata": {},
          "execution_count": 10
        }
      ]
    },
    {
      "cell_type": "markdown",
      "source": [
        "за двома бібліотеками, бачимо одне і теж значення розподілу"
      ],
      "metadata": {
        "id": "3sXmGjjBUUCn"
      }
    },
    {
      "cell_type": "markdown",
      "source": [
        "отже, розподіл не нормальний  оскільки 0 < 0.05\n",
        "\n",
        "Потрібно використати не параметричний Анова, але я хочу порівняти результати між непараметричним і параметричним"
      ],
      "metadata": {
        "id": "ziRaOkgD6l4X"
      }
    },
    {
      "cell_type": "markdown",
      "source": [
        "ділим дані по категоріям (як категоріальну зміну я беру рівень холестеролу 1: normal, 2: above normal, 3: well above normal та рівень глюкози 1: normal, 2: above normal, 3: well above normal, як кількісну - вік)"
      ],
      "metadata": {
        "id": "WkCr0Tay7mps"
      }
    },
    {
      "cell_type": "code",
      "source": [
        "import pandas as pd\n",
        "from scipy.stats import f_oneway\n",
        "\n",
        "# Функція для розрахунку статистики\n",
        "def calculate_statistics(group):\n",
        "    count = group.shape[0]\n",
        "    mean = group['age_years'].mean()\n",
        "    std = group['age_years'].std()\n",
        "    return count, mean, std\n",
        "\n",
        "# Розділення на групи за категорією \"холестерол\"\n",
        "ch1 = df_dropped[df_dropped[\"cholesterol\"] == 1]\n",
        "ch2 = df_dropped[df_dropped[\"cholesterol\"] == 2]\n",
        "ch3 = df_dropped[df_dropped[\"cholesterol\"] == 3]\n",
        "\n",
        "# Розділення на групи за категорією \"глюкоза\"\n",
        "g1 = df_dropped[df_dropped[\"gluc\"] == 1]\n",
        "g2 = df_dropped[df_dropped[\"gluc\"] == 2]\n",
        "g3 = df_dropped[df_dropped[\"gluc\"] == 3]\n",
        "\n",
        "# Аналіз за категоріальними змінними\n",
        "\n",
        "print(\"Аналіз за категорією 'Cholesterol':\")\n",
        "print(\"1: normal\")\n",
        "count_ch1, mean_ch1, std_ch1 = calculate_statistics(ch1)\n",
        "print(\"   Кількість спостережень:\", count_ch1)\n",
        "print(\"   Середнє значення віку:\", mean_ch1)\n",
        "print(\"   Стандартне відхилення віку:\", std_ch1)\n",
        "\n",
        "print(\"2: above normal\")\n",
        "count_ch2, mean_ch2, std_ch2 = calculate_statistics(ch2)\n",
        "print(\"   Кількість спостережень:\", count_ch2)\n",
        "print(\"   Середнє значення віку:\", mean_ch2)\n",
        "print(\"   Стандартне відхилення віку:\", std_ch2)\n",
        "\n",
        "print(\"3: well above normal\")\n",
        "count_ch3, mean_ch3, std_ch3 = calculate_statistics(ch3)\n",
        "print(\"   Кількість спостережень:\", count_ch3)\n",
        "print(\"   Середнє значення віку:\", mean_ch3)\n",
        "print(\"   Стандартне відхилення віку:\", std_ch3)\n",
        "\n",
        "print(\"\\nАналіз за категорією 'Glucose':\")\n",
        "print(\"1: normal\")\n",
        "count_g1, mean_g1, std_g1 = calculate_statistics(g1)\n",
        "print(\"   Кількість спостережень:\", count_g1)\n",
        "print(\"   Середнє значення віку:\", mean_g1)\n",
        "print(\"   Стандартне відхилення віку:\", std_g1)\n",
        "\n",
        "print(\"2: above normal\")\n",
        "count_g2, mean_g2, std_g2 = calculate_statistics(g2)\n",
        "print(\"   Кількість спостережень:\", count_g2)\n",
        "print(\"   Середнє значення віку:\", mean_g2)\n",
        "print(\"   Стандартне відхилення віку:\", std_g2)\n",
        "\n",
        "print(\"3: well above normal\")\n",
        "count_g3, mean_g3, std_g3 = calculate_statistics(g3)\n",
        "print(\"   Кількість спостережень:\", count_g3)\n",
        "print(\"   Середнє значення віку:\", mean_g3)\n",
        "print(\"   Стандартне відхилення віку:\", std_g3)\n",
        "\n",
        "\n",
        "\n"
      ],
      "metadata": {
        "colab": {
          "base_uri": "https://localhost:8080/"
        },
        "id": "8TGoZ-we7Edl",
        "outputId": "c8664e61-ba10-49ed-b439-7d3c7adfaf17"
      },
      "execution_count": 11,
      "outputs": [
        {
          "output_type": "stream",
          "name": "stdout",
          "text": [
            "Аналіз за категорією 'Cholesterol':\n",
            "1: normal\n",
            "   Кількість спостережень: 3709\n",
            "   Середнє значення віку: 52.864050052260886\n",
            "   Стандартне відхилення віку: 6.92139513942865\n",
            "2: above normal\n",
            "   Кількість спостережень: 710\n",
            "   Середнє значення віку: 53.53287285355972\n",
            "   Стандартне відхилення віку: 6.601226373429272\n",
            "3: well above normal\n",
            "   Кількість спостережень: 580\n",
            "   Середнє значення віку: 56.33418044402456\n",
            "   Стандартне відхилення віку: 5.84929572301654\n",
            "\n",
            "Аналіз за категорією 'Glucose':\n",
            "1: normal\n",
            "   Кількість спостережень: 4192\n",
            "   Середнє значення віку: 53.145954459897524\n",
            "   Стандартне відхилення віку: 6.902676908882578\n",
            "2: above normal\n",
            "   Кількість спостережень: 401\n",
            "   Середнє значення віку: 53.18039831927032\n",
            "   Стандартне відхилення віку: 6.6342020743233885\n",
            "3: well above normal\n",
            "   Кількість спостережень: 406\n",
            "   Середнє значення віку: 55.76784533369323\n",
            "   Стандартне відхилення віку: 5.994175991231259\n"
          ]
        }
      ]
    },
    {
      "cell_type": "markdown",
      "source": [
        "Середнє значення в групах різне"
      ],
      "metadata": {
        "id": "RD64jqmkU8eB"
      }
    },
    {
      "cell_type": "markdown",
      "source": [
        "візуалізуємо групи"
      ],
      "metadata": {
        "id": "ZDZl4uurEkHh"
      }
    },
    {
      "cell_type": "code",
      "source": [
        "# Розділення на групи за категорією \"холестерол\"\n",
        "ch1 = df_dropped[df_dropped[\"cholesterol\"] == 1]\n",
        "ch2 = df_dropped[df_dropped[\"cholesterol\"] == 2]\n",
        "ch3 = df_dropped[df_dropped[\"cholesterol\"] == 3]\n",
        "\n",
        "# Розділення на групи за категорією \"глюкоза\"\n",
        "g1 = df_dropped[df_dropped[\"gluc\"] == 1]\n",
        "g2 = df_dropped[df_dropped[\"gluc\"] == 2]\n",
        "g3 = df_dropped[df_dropped[\"gluc\"] == 3]\n",
        "\n",
        "# Створення списків для ящичкових діаграм\n",
        "groups_ch = [ch1['age_years'], ch2['age_years'], ch3['age_years']]\n",
        "groups_g = [g1['age_years'], g2['age_years'], g3['age_years']]\n",
        "\n",
        "# Побудова ящичкових діаграм\n",
        "\n",
        "# Для статі (Sex)\n",
        "plt.figure(figsize=(8, 6))\n",
        "plt.boxplot(groups_ch, labels=['normal', 'above normal', 'well above normal'])\n",
        "plt.title(\"Ящичкові діаграми для розподілу віку за рівнем холестеролу\")\n",
        "plt.ylabel(\"Вік\")\n",
        "plt.show()\n",
        "\n",
        "# Для діагнозу електрокардіограми у спокої (RestingECG)\n",
        "plt.figure(figsize=(8, 6))\n",
        "plt.boxplot(groups_g, labels=['normal', 'above normal', 'well above normal'])\n",
        "plt.title(\"Ящичкові діаграми для розподілу віку за рівнем глюкози\")\n",
        "plt.ylabel(\"Вік\")\n",
        "plt.show()"
      ],
      "metadata": {
        "colab": {
          "base_uri": "https://localhost:8080/",
          "height": 1000
        },
        "id": "iQZKc5N6sPPX",
        "outputId": "383fb2a7-3144-4006-a157-df1e59a5d482"
      },
      "execution_count": 12,
      "outputs": [
        {
          "output_type": "display_data",
          "data": {
            "text/plain": [
              "<Figure size 800x600 with 1 Axes>"
            ],
            "image/png": "[encoded data removed]"
          },
          "metadata": {}
        },
        {
          "output_type": "display_data",
          "data": {
            "text/plain": [
              "<Figure size 800x600 with 1 Axes>"
            ],
            "image/png": "[encoded data removed]"
          },
          "metadata": {}
        }
      ]
    },
    {
      "cell_type": "markdown",
      "source": [
        "Тут ми бачимо те саме, що середнє значення різне\n",
        "\n",
        "Тепер робимо аналіз\n",
        "\n",
        "У нас такі гіпотези:\n",
        "\n",
        "\n",
        "H0 - нульова гіпотезу про те, що всі групи мають однакові\n",
        "середні значення.\n",
        "\n",
        "H1 -  є статистично значущі відмінності між\n",
        "середніми значеннями"
      ],
      "metadata": {
        "id": "9Xproe81VHi5"
      }
    },
    {
      "cell_type": "code",
      "source": [
        "\n",
        "from scipy.stats import f_oneway\n",
        "\n",
        "# Проведення однофакторного дисперсійного аналізу\n",
        "f_value, p_value = f_oneway(ch1['age_years'], ch2['age_years'], ch3['age_years'])\n",
        "\n",
        "# Виведення результатів\n",
        "print(\"F-значення:\", f_value)\n",
        "print(\"p-значення:\", p_value)"
      ],
      "metadata": {
        "colab": {
          "base_uri": "https://localhost:8080/"
        },
        "id": "cw8uCj5rGLAS",
        "outputId": "3af54fa8-3e51-408c-c084-d2ea7e52618c"
      },
      "execution_count": 13,
      "outputs": [
        {
          "output_type": "stream",
          "name": "stdout",
          "text": [
            "F-значення: 66.33943375170834\n",
            "p-значення: 3.673449262021686e-29\n"
          ]
        }
      ]
    },
    {
      "cell_type": "markdown",
      "source": [
        "тут ми відхиляємо 0"
      ],
      "metadata": {
        "id": "eClDHhvVWwXS"
      }
    },
    {
      "cell_type": "code",
      "source": [
        "from scipy.stats import kruskal\n",
        "\n",
        "\n",
        "h_value, p_value = kruskal(ch1['age_years'], ch2['age_years'], ch3['age_years'])\n",
        "\n",
        "print(\"H-значение:\", h_value)\n",
        "print(\"p-значение:\", p_value)\n"
      ],
      "metadata": {
        "colab": {
          "base_uri": "https://localhost:8080/"
        },
        "id": "F5R4wXgYI-GZ",
        "outputId": "441eebba-7a21-4cc6-f931-91b3fdbb6b93"
      },
      "execution_count": 14,
      "outputs": [
        {
          "output_type": "stream",
          "name": "stdout",
          "text": [
            "H-значение: 126.15187649321616\n",
            "p-значение: 4.040806728153741e-28\n"
          ]
        }
      ]
    },
    {
      "cell_type": "markdown",
      "source": [
        "За непараметричним тестом Анова (Kruskal-Wallis), теж відхиляємо 0 гіпотезу"
      ],
      "metadata": {
        "id": "o5D5bvDRYn-n"
      }
    },
    {
      "cell_type": "code",
      "source": [
        "\n",
        "anova = pg.anova(data=df, dv='age_years', between=['cholesterol', 'gluc'], detailed=True)\n",
        "\n",
        "# Виведення результатів\n",
        "print(anova)"
      ],
      "metadata": {
        "colab": {
          "base_uri": "https://localhost:8080/"
        },
        "id": "L3DC1_R-HNtv",
        "outputId": "ae5eeaff-ff18-4c1d-c2f8-ca6d122fc7eb"
      },
      "execution_count": 15,
      "outputs": [
        {
          "output_type": "stream",
          "name": "stdout",
          "text": [
            "               Source            SS       DF            MS           F  \\\n",
            "0         cholesterol  5.171142e+04      2.0  25855.708437  581.675798   \n",
            "1                gluc  2.639305e+03      2.0   1319.652465   29.688218   \n",
            "2  cholesterol * gluc  3.769901e+03      4.0    942.475186   21.202862   \n",
            "3            Residual  3.111126e+06  69991.0     44.450377         NaN   \n",
            "\n",
            "           p-unc       np2  \n",
            "0  2.869962e-251  0.016350  \n",
            "1   1.294306e-13  0.000848  \n",
            "2   1.704554e-17  0.001210  \n",
            "3            NaN       NaN  \n"
          ]
        }
      ]
    },
    {
      "cell_type": "markdown",
      "source": [
        "![image.png](data:image/png;base64,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)"
      ],
      "metadata": {
        "id": "Fi3qHyaGXhJh"
      }
    },
    {
      "cell_type": "markdown",
      "source": [
        "тут ми теж відхиляємо 0 гіпотезу"
      ],
      "metadata": {
        "id": "3oBSQRmgYAAz"
      }
    },
    {
      "cell_type": "code",
      "source": [
        "from scipy.stats import kruskal\n",
        "\n",
        "\n",
        "h_value, p_value = kruskal(g1['age_years'], g2['age_years'], g3['age_years'])\n",
        "\n",
        "print(\"H-значение:\", h_value)\n",
        "print(\"p-значение:\", p_value)\n"
      ],
      "metadata": {
        "colab": {
          "base_uri": "https://localhost:8080/"
        },
        "id": "XxVpIOu1KOjX",
        "outputId": "abc4d2e7-05a3-4710-eef4-c89067fda0b3"
      },
      "execution_count": 16,
      "outputs": [
        {
          "output_type": "stream",
          "name": "stdout",
          "text": [
            "H-значение: 52.403504420462575\n",
            "p-значение: 4.1756452852340825e-12\n"
          ]
        }
      ]
    },
    {
      "cell_type": "markdown",
      "source": [
        " інша група, результат тей же відхиляємо 0 гіпотезу"
      ],
      "metadata": {
        "id": "wAt55_ThZDMq"
      }
    },
    {
      "cell_type": "markdown",
      "source": [
        "візуально, середнє значення 2х груп рівні, я зроблю т-тест\n",
        "\n",
        "Н0 середнє значення 2 груп рівне\n",
        "\n",
        "н1 середнє значення 2 груп різне"
      ],
      "metadata": {
        "id": "sQKTTCrKMuKI"
      }
    },
    {
      "cell_type": "code",
      "source": [
        "from scipy.stats import ttest_ind\n",
        "\n",
        "t_statistic, p_value = ttest_ind(ch1['age_years'], ch2['age_years'])\n",
        "\n",
        "print(\"t-статистика:\", t_statistic)\n",
        "print(\"p-значение:\", p_value)\n"
      ],
      "metadata": {
        "colab": {
          "base_uri": "https://localhost:8080/"
        },
        "id": "20DeHX7PMtvC",
        "outputId": "39c5303d-94c5-4a82-e013-0210e1c44af2"
      },
      "execution_count": 17,
      "outputs": [
        {
          "output_type": "stream",
          "name": "stdout",
          "text": [
            "t-статистика: -2.376217552248419\n",
            "p-значение: 0.01753354029089467\n"
          ]
        }
      ]
    },
    {
      "cell_type": "markdown",
      "source": [
        "справдилась н1"
      ],
      "metadata": {
        "id": "bnZUVXNGq5a7"
      }
    },
    {
      "cell_type": "markdown",
      "source": [
        "тепер зробимо на більшу вибірку, без видалення великої кількості рядків"
      ],
      "metadata": {
        "id": "GwB4MznAZa7U"
      }
    },
    {
      "cell_type": "code",
      "source": [
        "# Розділення на групи за категорією \"холестерол\"\n",
        "ch1 = df[df[\"cholesterol\"] == 1]\n",
        "ch2 = df[df[\"cholesterol\"] == 2]\n",
        "ch3 = df[df[\"cholesterol\"] == 3]\n",
        "\n",
        "# Розділення на групи за категорією \"глюкоза\"\n",
        "g1 = df[df[\"gluc\"] == 1]\n",
        "g2 = df[df[\"gluc\"] == 2]\n",
        "g3 = df[df[\"gluc\"] == 3]\n",
        "\n",
        "# Створення списків для ящичкових діаграм\n",
        "groups_ch = [ch1['age_years'], ch2['age_years'], ch3['age_years']]\n",
        "groups_g = [g1['age_years'], g2['age_years'], g3['age_years']]\n",
        "\n",
        "# Побудова ящичкових діаграм\n",
        "\n",
        "plt.figure(figsize=(8, 6))\n",
        "plt.boxplot(groups_ch, labels=['normal', 'above normal', 'well above normal'])\n",
        "plt.title(\"Ящичкові діаграми для розподілу віку за рівнем холестеролу\")\n",
        "plt.ylabel(\"Вік\")\n",
        "plt.show()\n",
        "\n",
        "plt.figure(figsize=(8, 6))\n",
        "plt.boxplot(groups_g, labels=['normal', 'above normal', 'well above normal'])\n",
        "plt.title(\"Ящичкові діаграми для розподілу віку за рівнем глюкози\")\n",
        "plt.ylabel(\"Вік\")\n",
        "plt.show()"
      ],
      "metadata": {
        "colab": {
          "base_uri": "https://localhost:8080/",
          "height": 1000
        },
        "id": "OoZT-mS_Zvmg",
        "outputId": "1c3f7310-f6bf-480d-ae9b-15c299940a48"
      },
      "execution_count": 18,
      "outputs": [
        {
          "output_type": "display_data",
          "data": {
            "text/plain": [
              "<Figure size 800x600 with 1 Axes>"
            ],
            "image/png": "[encoded data removed]"
          },
          "metadata": {}
        },
        {
          "output_type": "display_data",
          "data": {
            "text/plain": [
              "<Figure size 800x600 with 1 Axes>"
            ],
            "image/png": "[encoded data removed]"
          },
          "metadata": {}
        }
      ]
    },
    {
      "cell_type": "code",
      "source": [
        "\n",
        "anova = pg.anova(data=df, dv='age_years', between=['cholesterol', 'gluc'], detailed=True)\n",
        "print(anova)"
      ],
      "metadata": {
        "colab": {
          "base_uri": "https://localhost:8080/"
        },
        "id": "OXyxsmTHaX9T",
        "outputId": "3c3bfe24-5b53-44fd-b9e6-b39c138e9358"
      },
      "execution_count": 19,
      "outputs": [
        {
          "output_type": "stream",
          "name": "stdout",
          "text": [
            "               Source            SS       DF            MS           F  \\\n",
            "0         cholesterol  5.171142e+04      2.0  25855.708437  581.675798   \n",
            "1                gluc  2.639305e+03      2.0   1319.652465   29.688218   \n",
            "2  cholesterol * gluc  3.769901e+03      4.0    942.475186   21.202862   \n",
            "3            Residual  3.111126e+06  69991.0     44.450377         NaN   \n",
            "\n",
            "           p-unc       np2  \n",
            "0  2.869962e-251  0.016350  \n",
            "1   1.294306e-13  0.000848  \n",
            "2   1.704554e-17  0.001210  \n",
            "3            NaN       NaN  \n"
          ]
        }
      ]
    },
    {
      "cell_type": "markdown",
      "source": [
        "Тут теж відхиляємо нульову гіпотезу і зробимо не параметричний"
      ],
      "metadata": {
        "id": "n8VqgjKlqZjM"
      }
    },
    {
      "cell_type": "code",
      "source": [
        "from scipy.stats import kruskal\n",
        "h_value, p_value = kruskal(g1['age_years'], g2['age_years'], g3['age_years'])\n",
        "\n",
        "print(\"H-значение:\", h_value)\n",
        "print(\"p-значение:\", p_value)\n"
      ],
      "metadata": {
        "colab": {
          "base_uri": "https://localhost:8080/"
        },
        "id": "cFpXtPs2rDVC",
        "outputId": "526e1c4a-ec78-4b85-89de-1d5b6598a5f8"
      },
      "execution_count": 20,
      "outputs": [
        {
          "output_type": "stream",
          "name": "stdout",
          "text": [
            "H-значение: 699.4875584456599\n",
            "p-значение: 1.2829407609358133e-152\n"
          ]
        }
      ]
    },
    {
      "cell_type": "markdown",
      "source": [
        "підтвержується н1"
      ],
      "metadata": {
        "id": "zjCXnJ5qrj2K"
      }
    },
    {
      "cell_type": "markdown",
      "source": [
        "в результаті дисперсійного аналізу було знайдено статистично\n",
        "значущі відмінності, можна провести пост-гок аналіз, щоб з'ясувати, між якими\n",
        "саме групами існують ці відмінності.\n",
        "\n",
        "Якщо інтервал довіри для різниці середніх не охоплює нуль, і\n",
        "p-значення менше 0.05, між групами існує статистично значуща різниця."
      ],
      "metadata": {
        "id": "jBO8Ajg2s-CW"
      }
    },
    {
      "cell_type": "code",
      "source": [
        "from statsmodels.stats.multicomp import pairwise_tukeyhsd\n",
        "import pandas as pd\n",
        "\n",
        "# Підготовка даних для Тьюків тесту\n",
        "data = np.concatenate([ch1['age_years'], ch2['age_years'], ch3['age_years']])\n",
        "groups = ['1'] * len(ch1) + ['2'] * len(ch2) + ['3'] * len(ch3)\n",
        "df = pd.DataFrame({'Age': data, 'Cholesterol': groups})\n",
        "\n",
        "# Проведення Тьюків тесту\n",
        "tukey_results = pairwise_tukeyhsd(endog=df['Age'], groups=df['Cholesterol'], alpha=0.05)\n",
        "\n",
        "print(tukey_results)\n"
      ],
      "metadata": {
        "colab": {
          "base_uri": "https://localhost:8080/"
        },
        "id": "mPONWqiJrnrD",
        "outputId": "1545e8d1-04ac-4346-e62a-25e83b9446fa"
      },
      "execution_count": 21,
      "outputs": [
        {
          "output_type": "stream",
          "name": "stdout",
          "text": [
            "Multiple Comparison of Means - Tukey HSD, FWER=0.05\n",
            "=================================================\n",
            "group1 group2 meandiff p-adj lower  upper  reject\n",
            "-------------------------------------------------\n",
            "     1      2    0.881   0.0  0.707 1.0551   True\n",
            "     1      3   3.3689   0.0 3.1818  3.556   True\n",
            "     2      3   2.4879   0.0 2.2514 2.7245   True\n",
            "-------------------------------------------------\n"
          ]
        }
      ]
    },
    {
      "cell_type": "markdown",
      "source": [
        "Як бачимо всі результати True, тоб-то існує статистично значуща різниця"
      ],
      "metadata": {
        "id": "tAHl2RrAtfC1"
      }
    },
    {
      "cell_type": "markdown",
      "source": [
        "Робимо візуалізацію, для початку потрібно всі дані зробити з однаковими значеннями, тобто бінарними і знаходимо  BMI, якщо людина має індекс більше ніж 25б то в неї зайва вага"
      ],
      "metadata": {
        "id": "78_iw_c9i5Oo"
      }
    },
    {
      "cell_type": "markdown",
      "source": [
        "Бачимо, що для наявності сецево-судинних захворювань, характерна зайва вага, підвищений рівень глюкози та холестеролу. І меньша активність"
      ],
      "metadata": {
        "id": "KNpk-GeVn6et"
      }
    },
    {
      "cell_type": "code",
      "source": [
        "df = pd.read_csv('medical_examination.csv')"
      ],
      "metadata": {
        "id": "En0DXs5AqUQM"
      },
      "execution_count": 22,
      "outputs": []
    },
    {
      "cell_type": "code",
      "source": [
        "import pandas as pd\n",
        "import seaborn as sns\n",
        "import matplotlib.pyplot as plt\n",
        "\n",
        "\n",
        "df['overweight'] = ((df['weight'] / (df['height'] / 100) ** 2) > 25).astype(int)\n",
        "df['cholesterol'] = (df['cholesterol'] > 1).astype(int)\n",
        "df['gluc'] = (df['gluc'] > 1).astype(int)\n",
        "\n",
        "df_cat = pd.melt(df, id_vars=['cardio'], value_vars=['cholesterol', 'gluc', 'smoke', 'alco', 'active', 'overweight'])\n",
        "\n",
        "df_cat = df_cat.groupby(['cardio', 'variable', 'value']).size().reset_index(name='total')\n",
        "\n",
        "graph = sns.catplot(data=df_cat, kind=\"bar\", x=\"variable\", y=\"total\", hue=\"value\", col=\"cardio\")\n",
        "plt.show()\n"
      ],
      "metadata": {
        "colab": {
          "base_uri": "https://localhost:8080/",
          "height": 507
        },
        "id": "5fKDiYgdnebp",
        "outputId": "a3fba740-54ee-418f-f31f-90e02e63ab22"
      },
      "execution_count": 23,
      "outputs": [
        {
          "output_type": "display_data",
          "data": {
            "text/plain": [
              "<Figure size 1058.88x500 with 2 Axes>"
            ],
            "image/png": "[encoded data removed]"
          },
          "metadata": {}
        }
      ]
    },
    {
      "cell_type": "code",
      "source": [
        "df_heat = df[(df['ap_lo'] <= df['ap_hi']) &\n",
        "             (df['height'] >= df['height'].quantile(0.025)) &\n",
        "             (df['height'] <= df['height'].quantile(0.975)) &\n",
        "             (df['weight'] >= df['weight'].quantile(0.025)) &\n",
        "             (df['weight'] <= df['weight'].quantile(0.975))\n",
        "             ]\n",
        "\n",
        "# Calculate the correlation matrix\n",
        "corr = df_heat.corr()\n",
        "\n",
        "print(corr)\n",
        "\n"
      ],
      "metadata": {
        "id": "KY-XecOca3NR",
        "colab": {
          "base_uri": "https://localhost:8080/"
        },
        "outputId": "23ff0574-2150-438d-ec0d-6ba334daf3bb"
      },
      "execution_count": 24,
      "outputs": [
        {
          "output_type": "stream",
          "name": "stdout",
          "text": [
            "                   id       age       sex    height    weight     ap_hi  \\\n",
            "id           1.000000  0.002507  0.003426  0.000326  0.000149  0.003492   \n",
            "age          0.002507  1.000000 -0.018132 -0.076932  0.070168  0.018689   \n",
            "sex          0.003426 -0.018132  1.000000  0.505785  0.129979  0.005063   \n",
            "height       0.000326 -0.076932  0.505785  1.000000  0.251503  0.004586   \n",
            "weight       0.000149  0.070168  0.129979  0.251503  1.000000  0.027030   \n",
            "ap_hi        0.003492  0.018689  0.005063  0.004586  0.027030  1.000000   \n",
            "ap_lo        0.000484  0.153508  0.059947  0.017922  0.227922  0.072803   \n",
            "cholesterol  0.003719  0.129996 -0.037605 -0.063522  0.135981  0.022807   \n",
            "gluc         0.002289  0.086990 -0.021357 -0.030469  0.107072  0.011111   \n",
            "smoke       -0.002732 -0.044371  0.337436  0.187830  0.056533 -0.001928   \n",
            "alco        -0.000708 -0.026970  0.168637  0.089785  0.059917  0.000769   \n",
            "active       0.005891 -0.011445  0.007864 -0.005661 -0.014430 -0.000222   \n",
            "cardio       0.003900  0.240241  0.002320 -0.024102  0.170042  0.050556   \n",
            "overweight  -0.000679  0.089573 -0.052930 -0.149570  0.655926  0.017327   \n",
            "\n",
            "                ap_lo  cholesterol      gluc     smoke      alco    active  \\\n",
            "id           0.000484     0.003719  0.002289 -0.002732 -0.000708  0.005891   \n",
            "age          0.153508     0.129996  0.086990 -0.044371 -0.026970 -0.011445   \n",
            "sex          0.059947    -0.037605 -0.021357  0.337436  0.168637  0.007864   \n",
            "height       0.017922    -0.063522 -0.030469  0.187830  0.089785 -0.005661   \n",
            "weight       0.227922     0.135981  0.107072  0.056533  0.059917 -0.014430   \n",
            "ap_hi        0.072803     0.022807  0.011111 -0.001928  0.000769 -0.000222   \n",
            "ap_lo        1.000000     0.150362  0.074840  0.023275  0.033042  0.001569   \n",
            "cholesterol  0.150362     1.000000  0.383743  0.012680  0.038446  0.002494   \n",
            "gluc         0.074840     0.383743  1.000000 -0.004157  0.014297 -0.010145   \n",
            "smoke        0.023275     0.012680 -0.004157  1.000000  0.341200  0.026940   \n",
            "alco         0.033042     0.038446  0.014297  0.341200  1.000000  0.025847   \n",
            "active       0.001569     0.002494 -0.010145  0.026940  0.025847  1.000000   \n",
            "cardio       0.327181     0.203467  0.088445 -0.020345 -0.011088 -0.037339   \n",
            "overweight   0.172212     0.127986  0.088109 -0.003274  0.025056 -0.003387   \n",
            "\n",
            "               cardio  overweight  \n",
            "id           0.003900   -0.000679  \n",
            "age          0.240241    0.089573  \n",
            "sex          0.002320   -0.052930  \n",
            "height      -0.024102   -0.149570  \n",
            "weight       0.170042    0.655926  \n",
            "ap_hi        0.050556    0.017327  \n",
            "ap_lo        0.327181    0.172212  \n",
            "cholesterol  0.203467    0.127986  \n",
            "gluc         0.088445    0.088109  \n",
            "smoke       -0.020345   -0.003274  \n",
            "alco        -0.011088    0.025056  \n",
            "active      -0.037339   -0.003387  \n",
            "cardio       1.000000    0.143168  \n",
            "overweight   0.143168    1.000000  \n"
          ]
        }
      ]
    },
    {
      "cell_type": "code",
      "source": [
        "import plotly.io as pio\n",
        "import plotly.express as px\n",
        "df_heat = df[(df['ap_lo'] <= df['ap_hi']) &\n",
        "             (df['height'] >= df['height'].quantile(0.025)) &\n",
        "             (df['height'] <= df['height'].quantile(0.975)) &\n",
        "             (df['weight'] >= df['weight'].quantile(0.025)) &\n",
        "             (df['weight'] <= df['weight'].quantile(0.975))\n",
        "             ]\n",
        "\n",
        "fig6 = px.imshow(df_heat.corr(),\n",
        "                 color_continuous_scale='sunset',\n",
        "                 )\n",
        "fig6.show()"
      ],
      "metadata": {
        "id": "LA_H82k6ENm6",
        "colab": {
          "base_uri": "https://localhost:8080/",
          "height": 542
        },
        "outputId": "00703402-1679-4988-d8d4-8f3702b393cc"
      },
      "execution_count": 25,
      "outputs": [
        {
          "output_type": "display_data",
          "data": {
            "text/html": [
              "<html>\n",
              "<head><meta charset=\"utf-8\" /></head>\n",
              "<body>\n",
              "    <div>            <script src=\"https://cdnjs.cloudflare.com/ajax/libs/mathjax/2.7.5/MathJax.js?config=TeX-AMS-MML_SVG\"></script><script type=\"text/javascript\">if (window.MathJax && window.MathJax.Hub && window.MathJax.Hub.Config) {window.MathJax.Hub.Config({SVG: {font: \"STIX-Web\"}});}</script>                <script type=\"text/javascript\">window.PlotlyConfig = {MathJaxConfig: 'local'};</script>\n",
              "        <script charset=\"utf-8\" src=\"https://cdn.plot.ly/plotly-2.24.1.min.js\"></script>                <div id=\"1d58d09f-f35a-4759-8d01-454636f195be\" class=\"plotly-graph-div\" style=\"height:525px; width:100%;\"></div>            <script type=\"text/javascript\">                                    window.PLOTLYENV=window.PLOTLYENV || {};                                    if (document.getElementById(\"1d58d09f-f35a-4759-8d01-454636f195be\")) {                    Plotly.newPlot(                        \"1d58d09f-f35a-4759-8d01-454636f195be\",                        [{\"coloraxis\":\"coloraxis\",\"name\":\"0\",\"x\":[\"id\",\"age\",\"sex\",\"height\",\"weight\",\"ap_hi\",\"ap_lo\",\"cholesterol\",\"gluc\",\"smoke\",\"alco\",\"active\",\"cardio\",\"overweight\"],\"y\":[\"id\",\"age\",\"sex\",\"height\",\"weight\",\"ap_hi\",\"ap_lo\",\"cholesterol\",\"gluc\",\"smoke\",\"alco\",\"active\",\"cardio\",\"overweight\"],\"z\":[[1.0,0.0025072969092681634,0.0034261027264301564,0.0003259167086266509,0.00014933322409345042,0.0034923802302283553,0.00048367079267659175,0.0037193914291425785,0.0022890903359873227,-0.002732277253507437,-0.0007080598039785456,0.005891142231622055,0.0039001105893574028,-0.0006794203139959546],[0.0025072969092681634,1.0,-0.018132005170417416,-0.07693183469493688,0.07016838963521839,0.018689409499975544,0.1535079732595693,0.1299961758351359,0.08699014486808847,-0.04437064713346754,-0.026969538193153567,-0.011445126621615143,0.24024108885049072,0.08957265465114789],[0.0034261027264301564,-0.018132005170417416,1.0,0.5057848507637838,0.12997931959559772,0.005062504079534954,0.059946648389887724,-0.03760504431331756,-0.021357384670771803,0.3374358810139041,0.1686371239445751,0.00786370242189266,0.002319991579168963,-0.05292968477147755],[0.0003259167086266509,-0.07693183469493688,0.5057848507637838,1.0,0.2515028648085005,0.004585736251875685,0.01792243312707317,-0.06352178897852394,-0.03046901588999476,0.18782957526071972,0.08978505227756613,-0.0056614797180287975,-0.02410191673657932,-0.1495698201678199],[0.00014933322409345042,0.07016838963521839,0.12997931959559772,0.2515028648085005,1.0,0.027030186373336523,0.2279216443009737,0.1359809610039254,0.10707163264313313,0.056532832107461295,0.05991665853434224,-0.014430241454390362,0.1700417861938595,0.6559257353673695],[0.0034923802302283553,0.018689409499975544,0.005062504079534954,0.004585736251875685,0.027030186373336523,1.0,0.07280276456113917,0.02280688965928479,0.011111174525021476,-0.0019277303420850971,0.0007692140834871553,-0.000222293524961552,0.05055591013013544,0.017326954457269412],[0.00048367079267659175,0.1535079732595693,0.059946648389887724,0.01792243312707317,0.2279216443009737,0.07280276456113917,1.0,0.15036177615213214,0.07484022748230645,0.023274577286351638,0.033041808675725114,0.0015694568506961681,0.32718090540021355,0.1722121346486115],[0.0037193914291425785,0.1299961758351359,-0.03760504431331756,-0.06352178897852394,0.1359809610039254,0.02280688965928479,0.15036177615213214,1.0,0.3837430564800524,0.012680095812338749,0.038446259693711064,0.0024936739580282597,0.2034666045979939,0.1279859154804352],[0.0022890903359873227,0.08699014486808847,-0.021357384670771803,-0.03046901588999476,0.10707163264313313,0.011111174525021476,0.07484022748230645,0.3837430564800524,1.0,-0.00415702173641887,0.014297152159374346,-0.010145410443375006,0.08844457964737648,0.08810940783533619],[-0.002732277253507437,-0.04437064713346754,0.3374358810139041,0.18782957526071972,0.056532832107461295,-0.0019277303420850971,0.023274577286351638,0.012680095812338749,-0.00415702173641887,1.0,0.34120042542324563,0.02693953347335763,-0.020344821545063722,-0.0032742415422087486],[-0.0007080598039785456,-0.026969538193153567,0.1686371239445751,0.08978505227756613,0.05991665853434224,0.0007692140834871553,0.033041808675725114,0.038446259693711064,0.014297152159374346,0.34120042542324563,1.0,0.0258472804627451,-0.01108798437812382,0.025055877166121353],[0.005891142231622055,-0.011445126621615143,0.00786370242189266,-0.0056614797180287975,-0.014430241454390362,-0.000222293524961552,0.0015694568506961681,0.0024936739580282597,-0.010145410443375006,0.02693953347335763,0.0258472804627451,1.0,-0.03733938354540587,-0.003386711687003718],[0.0039001105893574028,0.24024108885049072,0.002319991579168963,-0.02410191673657932,0.1700417861938595,0.05055591013013544,0.32718090540021355,0.2034666045979939,0.08844457964737648,-0.020344821545063722,-0.01108798437812382,-0.03733938354540587,1.0,0.14316774669715784],[-0.0006794203139959546,0.08957265465114789,-0.05292968477147755,-0.1495698201678199,0.6559257353673695,0.017326954457269412,0.1722121346486115,0.1279859154804352,0.08810940783533619,-0.0032742415422087486,0.025055877166121353,-0.003386711687003718,0.14316774669715784,1.0]],\"type\":\"heatmap\",\"xaxis\":\"x\",\"yaxis\":\"y\",\"hovertemplate\":\"x: %{x}\\u003cbr\\u003ey: %{y}\\u003cbr\\u003ecolor: %{z}\\u003cextra\\u003e\\u003c\\u002fextra\\u003e\"}],                        {\"template\":{\"data\":{\"histogram2dcontour\":[{\"type\":\"histogram2dcontour\",\"colorbar\":{\"outlinewidth\":0,\"ticks\":\"\"},\"colorscale\":[[0.0,\"#0d0887\"],[0.1111111111111111,\"#46039f\"],[0.2222222222222222,\"#7201a8\"],[0.3333333333333333,\"#9c179e\"],[0.4444444444444444,\"#bd3786\"],[0.5555555555555556,\"#d8576b\"],[0.6666666666666666,\"#ed7953\"],[0.7777777777777778,\"#fb9f3a\"],[0.8888888888888888,\"#fdca26\"],[1.0,\"#f0f921\"]]}],\"choropleth\":[{\"type\":\"choropleth\",\"colorbar\":{\"outlinewidth\":0,\"ticks\":\"\"}}],\"histogram2d\":[{\"type\":\"histogram2d\",\"colorbar\":{\"outlinewidth\":0,\"ticks\":\"\"},\"colorscale\":[[0.0,\"#0d0887\"],[0.1111111111111111,\"#46039f\"],[0.2222222222222222,\"#7201a8\"],[0.3333333333333333,\"#9c179e\"],[0.4444444444444444,\"#bd3786\"],[0.5555555555555556,\"#d8576b\"],[0.6666666666666666,\"#ed7953\"],[0.7777777777777778,\"#fb9f3a\"],[0.8888888888888888,\"#fdca26\"],[1.0,\"#f0f921\"]]}],\"heatmap\":[{\"type\":\"heatmap\",\"colorbar\":{\"outlinewidth\":0,\"ticks\":\"\"},\"colorscale\":[[0.0,\"#0d0887\"],[0.1111111111111111,\"#46039f\"],[0.2222222222222222,\"#7201a8\"],[0.3333333333333333,\"#9c179e\"],[0.4444444444444444,\"#bd3786\"],[0.5555555555555556,\"#d8576b\"],[0.6666666666666666,\"#ed7953\"],[0.7777777777777778,\"#fb9f3a\"],[0.8888888888888888,\"#fdca26\"],[1.0,\"#f0f921\"]]}],\"heatmapgl\":[{\"type\":\"heatmapgl\",\"colorbar\":{\"outlinewidth\":0,\"ticks\":\"\"},\"colorscale\":[[0.0,\"#0d0887\"],[0.1111111111111111,\"#46039f\"],[0.2222222222222222,\"#7201a8\"],[0.3333333333333333,\"#9c179e\"],[0.4444444444444444,\"#bd3786\"],[0.5555555555555556,\"#d8576b\"],[0.6666666666666666,\"#ed7953\"],[0.7777777777777778,\"#fb9f3a\"],[0.8888888888888888,\"#fdca26\"],[1.0,\"#f0f921\"]]}],\"contourcarpet\":[{\"type\":\"contourcarpet\",\"colorbar\":{\"outlinewidth\":0,\"ticks\":\"\"}}],\"contour\":[{\"type\":\"contour\",\"colorbar\":{\"outlinewidth\":0,\"ticks\":\"\"},\"colorscale\":[[0.0,\"#0d0887\"],[0.1111111111111111,\"#46039f\"],[0.2222222222222222,\"#7201a8\"],[0.3333333333333333,\"#9c179e\"],[0.4444444444444444,\"#bd3786\"],[0.5555555555555556,\"#d8576b\"],[0.6666666666666666,\"#ed7953\"],[0.7777777777777778,\"#fb9f3a\"],[0.8888888888888888,\"#fdca26\"],[1.0,\"#f0f921\"]]}],\"surface\":[{\"type\":\"surface\",\"colorbar\":{\"outlinewidth\":0,\"ticks\":\"\"},\"colorscale\":[[0.0,\"#0d0887\"],[0.1111111111111111,\"#46039f\"],[0.2222222222222222,\"#7201a8\"],[0.3333333333333333,\"#9c179e\"],[0.4444444444444444,\"#bd3786\"],[0.5555555555555556,\"#d8576b\"],[0.6666666666666666,\"#ed7953\"],[0.7777777777777778,\"#fb9f3a\"],[0.8888888888888888,\"#fdca26\"],[1.0,\"#f0f921\"]]}],\"mesh3d\":[{\"type\":\"mesh3d\",\"colorbar\":{\"outlinewidth\":0,\"ticks\":\"\"}}],\"scatter\":[{\"fillpattern\":{\"fillmode\":\"overlay\",\"size\":10,\"solidity\":0.2},\"type\":\"scatter\"}],\"parcoords\":[{\"type\":\"parcoords\",\"line\":{\"colorbar\":{\"outlinewidth\":0,\"ticks\":\"\"}}}],\"scatterpolargl\":[{\"type\":\"scatterpolargl\",\"marker\":{\"colorbar\":{\"outlinewidth\":0,\"ticks\":\"\"}}}],\"bar\":[{\"error_x\":{\"color\":\"#2a3f5f\"},\"error_y\":{\"color\":\"#2a3f5f\"},\"marker\":{\"line\":{\"color\":\"#E5ECF6\",\"width\":0.5},\"pattern\":{\"fillmode\":\"overlay\",\"size\":10,\"solidity\":0.2}},\"type\":\"bar\"}],\"scattergeo\":[{\"type\":\"scattergeo\",\"marker\":{\"colorbar\":{\"outlinewidth\":0,\"ticks\":\"\"}}}],\"scatterpolar\":[{\"type\":\"scatterpolar\",\"marker\":{\"colorbar\":{\"outlinewidth\":0,\"ticks\":\"\"}}}],\"histogram\":[{\"marker\":{\"pattern\":{\"fillmode\":\"overlay\",\"size\":10,\"solidity\":0.2}},\"type\":\"histogram\"}],\"scattergl\":[{\"type\":\"scattergl\",\"marker\":{\"colorbar\":{\"outlinewidth\":0,\"ticks\":\"\"}}}],\"scatter3d\":[{\"type\":\"scatter3d\",\"line\":{\"colorbar\":{\"outlinewidth\":0,\"ticks\":\"\"}},\"marker\":{\"colorbar\":{\"outlinewidth\":0,\"ticks\":\"\"}}}],\"scattermapbox\":[{\"type\":\"scattermapbox\",\"marker\":{\"colorbar\":{\"outlinewidth\":0,\"ticks\":\"\"}}}],\"scatterternary\":[{\"type\":\"scatterternary\",\"marker\":{\"colorbar\":{\"outlinewidth\":0,\"ticks\":\"\"}}}],\"scattercarpet\":[{\"type\":\"scattercarpet\",\"marker\":{\"colorbar\":{\"outlinewidth\":0,\"ticks\":\"\"}}}],\"carpet\":[{\"aaxis\":{\"endlinecolor\":\"#2a3f5f\",\"gridcolor\":\"white\",\"linecolor\":\"white\",\"minorgridcolor\":\"white\",\"startlinecolor\":\"#2a3f5f\"},\"baxis\":{\"endlinecolor\":\"#2a3f5f\",\"gridcolor\":\"white\",\"linecolor\":\"white\",\"minorgridcolor\":\"white\",\"startlinecolor\":\"#2a3f5f\"},\"type\":\"carpet\"}],\"table\":[{\"cells\":{\"fill\":{\"color\":\"#EBF0F8\"},\"line\":{\"color\":\"white\"}},\"header\":{\"fill\":{\"color\":\"#C8D4E3\"},\"line\":{\"color\":\"white\"}},\"type\":\"table\"}],\"barpolar\":[{\"marker\":{\"line\":{\"color\":\"#E5ECF6\",\"width\":0.5},\"pattern\":{\"fillmode\":\"overlay\",\"size\":10,\"solidity\":0.2}},\"type\":\"barpolar\"}],\"pie\":[{\"automargin\":true,\"type\":\"pie\"}]},\"layout\":{\"autotypenumbers\":\"strict\",\"colorway\":[\"#636efa\",\"#EF553B\",\"#00cc96\",\"#ab63fa\",\"#FFA15A\",\"#19d3f3\",\"#FF6692\",\"#B6E880\",\"#FF97FF\",\"#FECB52\"],\"font\":{\"color\":\"#2a3f5f\"},\"hovermode\":\"closest\",\"hoverlabel\":{\"align\":\"left\"},\"paper_bgcolor\":\"white\",\"plot_bgcolor\":\"#E5ECF6\",\"polar\":{\"bgcolor\":\"#E5ECF6\",\"angularaxis\":{\"gridcolor\":\"white\",\"linecolor\":\"white\",\"ticks\":\"\"},\"radialaxis\":{\"gridcolor\":\"white\",\"linecolor\":\"white\",\"ticks\":\"\"}},\"ternary\":{\"bgcolor\":\"#E5ECF6\",\"aaxis\":{\"gridcolor\":\"white\",\"linecolor\":\"white\",\"ticks\":\"\"},\"baxis\":{\"gridcolor\":\"white\",\"linecolor\":\"white\",\"ticks\":\"\"},\"caxis\":{\"gridcolor\":\"white\",\"linecolor\":\"white\",\"ticks\":\"\"}},\"coloraxis\":{\"colorbar\":{\"outlinewidth\":0,\"ticks\":\"\"}},\"colorscale\":{\"sequential\":[[0.0,\"#0d0887\"],[0.1111111111111111,\"#46039f\"],[0.2222222222222222,\"#7201a8\"],[0.3333333333333333,\"#9c179e\"],[0.4444444444444444,\"#bd3786\"],[0.5555555555555556,\"#d8576b\"],[0.6666666666666666,\"#ed7953\"],[0.7777777777777778,\"#fb9f3a\"],[0.8888888888888888,\"#fdca26\"],[1.0,\"#f0f921\"]],\"sequentialminus\":[[0.0,\"#0d0887\"],[0.1111111111111111,\"#46039f\"],[0.2222222222222222,\"#7201a8\"],[0.3333333333333333,\"#9c179e\"],[0.4444444444444444,\"#bd3786\"],[0.5555555555555556,\"#d8576b\"],[0.6666666666666666,\"#ed7953\"],[0.7777777777777778,\"#fb9f3a\"],[0.8888888888888888,\"#fdca26\"],[1.0,\"#f0f921\"]],\"diverging\":[[0,\"#8e0152\"],[0.1,\"#c51b7d\"],[0.2,\"#de77ae\"],[0.3,\"#f1b6da\"],[0.4,\"#fde0ef\"],[0.5,\"#f7f7f7\"],[0.6,\"#e6f5d0\"],[0.7,\"#b8e186\"],[0.8,\"#7fbc41\"],[0.9,\"#4d9221\"],[1,\"#276419\"]]},\"xaxis\":{\"gridcolor\":\"white\",\"linecolor\":\"white\",\"ticks\":\"\",\"title\":{\"standoff\":15},\"zerolinecolor\":\"white\",\"automargin\":true,\"zerolinewidth\":2},\"yaxis\":{\"gridcolor\":\"white\",\"linecolor\":\"white\",\"ticks\":\"\",\"title\":{\"standoff\":15},\"zerolinecolor\":\"white\",\"automargin\":true,\"zerolinewidth\":2},\"scene\":{\"xaxis\":{\"backgroundcolor\":\"#E5ECF6\",\"gridcolor\":\"white\",\"linecolor\":\"white\",\"showbackground\":true,\"ticks\":\"\",\"zerolinecolor\":\"white\",\"gridwidth\":2},\"yaxis\":{\"backgroundcolor\":\"#E5ECF6\",\"gridcolor\":\"white\",\"linecolor\":\"white\",\"showbackground\":true,\"ticks\":\"\",\"zerolinecolor\":\"white\",\"gridwidth\":2},\"zaxis\":{\"backgroundcolor\":\"#E5ECF6\",\"gridcolor\":\"white\",\"linecolor\":\"white\",\"showbackground\":true,\"ticks\":\"\",\"zerolinecolor\":\"white\",\"gridwidth\":2}},\"shapedefaults\":{\"line\":{\"color\":\"#2a3f5f\"}},\"annotationdefaults\":{\"arrowcolor\":\"#2a3f5f\",\"arrowhead\":0,\"arrowwidth\":1},\"geo\":{\"bgcolor\":\"white\",\"landcolor\":\"#E5ECF6\",\"subunitcolor\":\"white\",\"showland\":true,\"showlakes\":true,\"lakecolor\":\"white\"},\"title\":{\"x\":0.05},\"mapbox\":{\"style\":\"light\"}}},\"xaxis\":{\"anchor\":\"y\",\"domain\":[0.0,1.0],\"scaleanchor\":\"y\",\"constrain\":\"domain\"},\"yaxis\":{\"anchor\":\"x\",\"domain\":[0.0,1.0],\"autorange\":\"reversed\",\"constrain\":\"domain\"},\"coloraxis\":{\"colorscale\":[[0.0,\"rgb(243, 231, 155)\"],[0.16666666666666666,\"rgb(250, 196, 132)\"],[0.3333333333333333,\"rgb(248, 160, 126)\"],[0.5,\"rgb(235, 127, 134)\"],[0.6666666666666666,\"rgb(206, 102, 147)\"],[0.8333333333333334,\"rgb(160, 89, 160)\"],[1.0,\"rgb(92, 83, 165)\"]]},\"margin\":{\"t\":60}},                        {\"responsive\": true}                    ).then(function(){\n",
              "                            \n",
              "var gd = document.getElementById('1d58d09f-f35a-4759-8d01-454636f195be');\n",
              "var x = new MutationObserver(function (mutations, observer) {{\n",
              "        var display = window.getComputedStyle(gd).display;\n",
              "        if (!display || display === 'none') {{\n",
              "            console.log([gd, 'removed!']);\n",
              "            Plotly.purge(gd);\n",
              "            observer.disconnect();\n",
              "        }}\n",
              "}});\n",
              "\n",
              "// Listen for the removal of the full notebook cells\n",
              "var notebookContainer = gd.closest('#notebook-container');\n",
              "if (notebookContainer) {{\n",
              "    x.observe(notebookContainer, {childList: true});\n",
              "}}\n",
              "\n",
              "// Listen for the clearing of the current output cell\n",
              "var outputEl = gd.closest('.output');\n",
              "if (outputEl) {{\n",
              "    x.observe(outputEl, {childList: true});\n",
              "}}\n",
              "\n",
              "                        })                };                            </script>        </div>\n",
              "</body>\n",
              "</html>"
            ]
          },
          "metadata": {}
        }
      ]
    },
    {
      "cell_type": "markdown",
      "source": [
        "Статистичний зв*язок між данними\n",
        "\n",
        "Сильна кореляція:\n",
        "\n",
        "\n",
        "\n",
        "Вік  має помірну позитивну кореляцію з наявністю серцево-судинних захворювань (0.24). Це  очікувано, оскільки з віком збільшується ризик розвитку серцево-судинних захворювань.\n",
        "Позитивна кореляція між зростом  і статевою приналежністю  також відображає біологічний зв'язок між цими двома факторами (0.51).\n",
        "Вага має помірну позитивну кореляцію з наявністю серцево-судинних захворювань (0.17).\n",
        "\n",
        "Рівень глюкози і куріння показують слабку кореляцію з наявністю серцево-судинних захворювань.\n",
        "Алкоголь  і рівень фізичної активності також мають слабку кореляцію з наявністю серцево-судинних захворювань ."
      ],
      "metadata": {
        "id": "qPnNFCd9q5mb"
      }
    },
    {
      "cell_type": "markdown",
      "source": [
        "Отже, зроблю висновок:\n",
        "\n",
        "1)  різниці між статистичними бібліотеками я не побачила, мені сподобалося працювати з pingouin\n",
        "\n",
        "1) я виконала тест анова та Kruskal-Wallis, вони обидва відхилили нульову гіпотезу, хоча розподіл був не нормальний\n",
        "\n",
        "3) діаграма була створена і було помічено, що для наявності сецево-судинних захворювань, характерна зайва вага, підвищений рівень глюкози та холестеролу. І меньша активність\n",
        "\n",
        "4) візуалізована карта кореляцій, висновки з карти вище"
      ],
      "metadata": {
        "id": "Xbtxdgjvsf4v"
      }
    }
  ]
}
{
  "nbformat": 4,
  "nbformat_minor": 0,
  "metadata": {
    "colab": {
      "provenance": [],
      "include_colab_link": true
    },
    "kernelspec": {
      "name": "python3",
      "display_name": "Python 3"
    },
    "language_info": {
      "name": "python"
    }
  },
  "cells": [
    {
      "cell_type": "markdown",
      "metadata": {
        "id": "view-in-github",
        "colab_type": "text"
      },
      "source": [
        "<a href=\"https://colab.research.google.com/github/AKupriichuk/pr_Medical_Data_Visualizer/blob/main/medproject.ipynb\" target=\"_parent\"><img src=\"https://colab.research.google.com/assets/colab-badge.svg\" alt=\"Open In Colab\"/></a>"
      ]
    },
    {
      "cell_type": "markdown",
      "source": [
        "# The objectives of this project include:\n",
        "\n",
        "The objectives of this project include:\n",
        "\n",
        "1. Conducting basic statistical analysis and testing for the normality of age distribution.\n",
        "2. Analyzing the impact of cholesterol and glucose levels on age using categorical variables.\n",
        "3. Performing non-parametric analysis of variance (Kruskal-Wallis test) to identify significant differences between groups based on cholesterol and glucose categories.\n",
        "5. Performing correlation analysis to determine statistical relationships between different factors (age, weight, glucose level, etc.) and the risk of cardiovascular diseases.\n",
        "6. Visualizing data using box plots, bar graphs, heatmaps, and correlation matrices.\n"
      ],
      "metadata": {
        "id": "n9Yi0hhKohzb"
      }
    },
    {
      "cell_type": "code",
      "source": [
        "!pip install pingouin"
      ],
      "metadata": {
        "colab": {
          "base_uri": "https://localhost:8080/"
        },
        "id": "i0IjUb27Uqwd",
        "outputId": "63717896-727a-49d7-d2a7-647ac5b14a93"
      },
      "execution_count": 60,
      "outputs": [
        {
          "output_type": "stream",
          "name": "stdout",
          "text": [
            "Requirement already satisfied: pingouin in /usr/local/lib/python3.10/dist-packages (0.5.4)\n",
            "Requirement already satisfied: numpy in /usr/local/lib/python3.10/dist-packages (from pingouin) (1.25.2)\n",
            "Requirement already satisfied: scipy in /usr/local/lib/python3.10/dist-packages (from pingouin) (1.11.4)\n",
            "Requirement already satisfied: pandas>=1.5 in /usr/local/lib/python3.10/dist-packages (from pingouin) (2.0.3)\n",
            "Requirement already satisfied: matplotlib in /usr/local/lib/python3.10/dist-packages (from pingouin) (3.7.1)\n",
            "Requirement already satisfied: seaborn in /usr/local/lib/python3.10/dist-packages (from pingouin) (0.13.1)\n",
            "Requirement already satisfied: statsmodels in /usr/local/lib/python3.10/dist-packages (from pingouin) (0.14.2)\n",
            "Requirement already satisfied: scikit-learn in /usr/local/lib/python3.10/dist-packages (from pingouin) (1.2.2)\n",
            "Requirement already satisfied: pandas-flavor in /usr/local/lib/python3.10/dist-packages (from pingouin) (0.6.0)\n",
            "Requirement already satisfied: tabulate in /usr/local/lib/python3.10/dist-packages (from pingouin) (0.9.0)\n",
            "Requirement already satisfied: python-dateutil>=2.8.2 in /usr/local/lib/python3.10/dist-packages (from pandas>=1.5->pingouin) (2.8.2)\n",
            "Requirement already satisfied: pytz>=2020.1 in /usr/local/lib/python3.10/dist-packages (from pandas>=1.5->pingouin) (2023.4)\n",
            "Requirement already satisfied: tzdata>=2022.1 in /usr/local/lib/python3.10/dist-packages (from pandas>=1.5->pingouin) (2024.1)\n",
            "Requirement already satisfied: contourpy>=1.0.1 in /usr/local/lib/python3.10/dist-packages (from matplotlib->pingouin) (1.2.1)\n",
            "Requirement already satisfied: cycler>=0.10 in /usr/local/lib/python3.10/dist-packages (from matplotlib->pingouin) (0.12.1)\n",
            "Requirement already satisfied: fonttools>=4.22.0 in /usr/local/lib/python3.10/dist-packages (from matplotlib->pingouin) (4.51.0)\n",
            "Requirement already satisfied: kiwisolver>=1.0.1 in /usr/local/lib/python3.10/dist-packages (from matplotlib->pingouin) (1.4.5)\n",
            "Requirement already satisfied: packaging>=20.0 in /usr/local/lib/python3.10/dist-packages (from matplotlib->pingouin) (24.0)\n",
            "Requirement already satisfied: pillow>=6.2.0 in /usr/local/lib/python3.10/dist-packages (from matplotlib->pingouin) (9.4.0)\n",
            "Requirement already satisfied: pyparsing>=2.3.1 in /usr/local/lib/python3.10/dist-packages (from matplotlib->pingouin) (3.1.2)\n",
            "Requirement already satisfied: xarray in /usr/local/lib/python3.10/dist-packages (from pandas-flavor->pingouin) (2023.7.0)\n",
            "Requirement already satisfied: joblib>=1.1.1 in /usr/local/lib/python3.10/dist-packages (from scikit-learn->pingouin) (1.4.0)\n",
            "Requirement already satisfied: threadpoolctl>=2.0.0 in /usr/local/lib/python3.10/dist-packages (from scikit-learn->pingouin) (3.4.0)\n",
            "Requirement already satisfied: patsy>=0.5.6 in /usr/local/lib/python3.10/dist-packages (from statsmodels->pingouin) (0.5.6)\n",
            "Requirement already satisfied: six in /usr/local/lib/python3.10/dist-packages (from patsy>=0.5.6->statsmodels->pingouin) (1.16.0)\n"
          ]
        }
      ]
    },
    {
      "cell_type": "code",
      "source": [
        "import pandas as pd\n",
        "import seaborn as sns\n",
        "from scipy import stats\n",
        "import matplotlib.pyplot as plt\n",
        "import numpy as np\n",
        "import pingouin as pg\n"
      ],
      "metadata": {
        "id": "TmYWwf_Vo76U"
      },
      "execution_count": 61,
      "outputs": []
    },
    {
      "cell_type": "code",
      "source": [
        "# Import data\n",
        "df = pd.read_csv('medical_examination.csv')"
      ],
      "metadata": {
        "id": "5oGnnAARt4Zg"
      },
      "execution_count": 62,
      "outputs": []
    },
    {
      "cell_type": "markdown",
      "source": [
        "# 1) Basic statistics"
      ],
      "metadata": {
        "id": "bdo5mZf7vKEC"
      }
    },
    {
      "cell_type": "code",
      "source": [
        "print(df.head())\n",
        "df.info()\n",
        "print(df.describe())"
      ],
      "metadata": {
        "colab": {
          "base_uri": "https://localhost:8080/"
        },
        "id": "yEv3RZt2vISn",
        "outputId": "e7f328cb-7b40-40f2-e274-fcf773c93f62"
      },
      "execution_count": 63,
      "outputs": [
        {
          "output_type": "stream",
          "name": "stdout",
          "text": [
            "   id    age  sex  height  weight  ap_hi  ap_lo  cholesterol  gluc  smoke  \\\n",
            "0   0  18393    2     168    62.0    110     80            1     1      0   \n",
            "1   1  20228    1     156    85.0    140     90            3     1      0   \n",
            "2   2  18857    1     165    64.0    130     70            3     1      0   \n",
            "3   3  17623    2     169    82.0    150    100            1     1      0   \n",
            "4   4  17474    1     156    56.0    100     60            1     1      0   \n",
            "\n",
            "   alco  active  cardio  \n",
            "0     0       1       0  \n",
            "1     0       1       1  \n",
            "2     0       0       1  \n",
            "3     0       1       1  \n",
            "4     0       0       0  \n",
            "<class 'pandas.core.frame.DataFrame'>\n",
            "RangeIndex: 70000 entries, 0 to 69999\n",
            "Data columns (total 13 columns):\n",
            " #   Column       Non-Null Count  Dtype  \n",
            "---  ------       --------------  -----  \n",
            " 0   id           70000 non-null  int64  \n",
            " 1   age          70000 non-null  int64  \n",
            " 2   sex          70000 non-null  int64  \n",
            " 3   height       70000 non-null  int64  \n",
            " 4   weight       70000 non-null  float64\n",
            " 5   ap_hi        70000 non-null  int64  \n",
            " 6   ap_lo        70000 non-null  int64  \n",
            " 7   cholesterol  70000 non-null  int64  \n",
            " 8   gluc         70000 non-null  int64  \n",
            " 9   smoke        70000 non-null  int64  \n",
            " 10  alco         70000 non-null  int64  \n",
            " 11  active       70000 non-null  int64  \n",
            " 12  cardio       70000 non-null  int64  \n",
            "dtypes: float64(1), int64(12)\n",
            "memory usage: 6.9 MB\n",
            "                 id           age           sex        height        weight  \\\n",
            "count  70000.000000  70000.000000  70000.000000  70000.000000  70000.000000   \n",
            "mean   49972.419900  19468.865814      1.349843    164.359229     74.205690   \n",
            "std    28851.302323   2467.251667      0.477253      8.210126     14.395757   \n",
            "min        0.000000  10798.000000      1.000000     55.000000     10.000000   \n",
            "25%    25006.750000  17664.000000      1.000000    159.000000     65.000000   \n",
            "50%    50001.500000  19703.000000      1.000000    165.000000     72.000000   \n",
            "75%    74889.250000  21327.000000      2.000000    170.000000     82.000000   \n",
            "max    99999.000000  23713.000000      3.000000    250.000000    200.000000   \n",
            "\n",
            "              ap_hi         ap_lo   cholesterol          gluc         smoke  \\\n",
            "count  70000.000000  70000.000000  70000.000000  70000.000000  70000.000000   \n",
            "mean     128.817286     96.630414      1.366871      1.226457      0.088129   \n",
            "std      154.011419    188.472530      0.680250      0.572270      0.283484   \n",
            "min     -150.000000    -70.000000      1.000000      1.000000      0.000000   \n",
            "25%      120.000000     80.000000      1.000000      1.000000      0.000000   \n",
            "50%      120.000000     80.000000      1.000000      1.000000      0.000000   \n",
            "75%      140.000000     90.000000      2.000000      1.000000      0.000000   \n",
            "max    16020.000000  11000.000000      3.000000      3.000000      1.000000   \n",
            "\n",
            "               alco        active        cardio  \n",
            "count  70000.000000  70000.000000  70000.000000  \n",
            "mean       0.053771      0.803729      0.499700  \n",
            "std        0.225568      0.397179      0.500003  \n",
            "min        0.000000      0.000000      0.000000  \n",
            "25%        0.000000      1.000000      0.000000  \n",
            "50%        0.000000      1.000000      0.000000  \n",
            "75%        0.000000      1.000000      1.000000  \n",
            "max        1.000000      1.000000      1.000000  \n"
          ]
        }
      ]
    },
    {
      "cell_type": "markdown",
      "source": [
        "# 2) Normality testing of age distribution"
      ],
      "metadata": {
        "id": "XHA6dF1LO0I8"
      }
    },
    {
      "cell_type": "markdown",
      "source": [
        "since our age is in days, so for convenience I converted it to years"
      ],
      "metadata": {
        "id": "yLwQXl3cT6wq"
      }
    },
    {
      "cell_type": "code",
      "source": [
        "df['age_years'] = df['age'] / 365\n",
        "df['age_years'].head()"
      ],
      "metadata": {
        "colab": {
          "base_uri": "https://localhost:8080/"
        },
        "id": "rI72opbRNNMM",
        "outputId": "7c93e45f-6aa6-4c3f-8b56-24399d86fa99"
      },
      "execution_count": 64,
      "outputs": [
        {
          "output_type": "execute_result",
          "data": {
            "text/plain": [
              "0    50.391781\n",
              "1    55.419178\n",
              "2    51.663014\n",
              "3    48.282192\n",
              "4    47.873973\n",
              "Name: age_years, dtype: float64"
            ]
          },
          "metadata": {},
          "execution_count": 64
        }
      ]
    },
    {
      "cell_type": "markdown",
      "source": [
        "the normality test works fine up to 5000 observations, I have 70000 so I need to remove 65001 random rows and create new data frame (df_dropped)"
      ],
      "metadata": {
        "id": "TaAowCi7UCR0"
      }
    },
    {
      "cell_type": "code",
      "source": [
        "indexes_to_drop = np.random.choice(df.index, 65001, replace=False)\n",
        "df_dropped = df.drop(indexes_to_drop)\n",
        "print(df_dropped.head())"
      ],
      "metadata": {
        "colab": {
          "base_uri": "https://localhost:8080/"
        },
        "id": "A7R8u1Kg2yh8",
        "outputId": "50b16948-5508-42ed-84e1-6c60541f9d94"
      },
      "execution_count": 65,
      "outputs": [
        {
          "output_type": "stream",
          "name": "stdout",
          "text": [
            "    id    age  sex  height  weight  ap_hi  ap_lo  cholesterol  gluc  smoke  \\\n",
            "22  32  23046    1     158    90.0    145     85            2     2      0   \n",
            "24  35  16608    1     170    68.0    150     90            3     1      0   \n",
            "31  43  23186    1     169    71.0    140     90            3     1      0   \n",
            "32  44  14605    1     159    60.0    110     70            1     1      0   \n",
            "41  56  18274    1     178    68.0    110     80            1     1      0   \n",
            "\n",
            "    alco  active  cardio  age_years  \n",
            "22     0       1       1  63.139726  \n",
            "24     0       1       1  45.501370  \n",
            "31     0       1       1  63.523288  \n",
            "32     0       1       0  40.013699  \n",
            "41     0       1       1  50.065753  \n"
          ]
        }
      ]
    },
    {
      "cell_type": "markdown",
      "source": [
        "will output the information again to make sure it has up to 5000 rows"
      ],
      "metadata": {
        "id": "Z2kYbULMP-N9"
      }
    },
    {
      "cell_type": "code",
      "source": [
        "df_dropped.info()"
      ],
      "metadata": {
        "colab": {
          "base_uri": "https://localhost:8080/"
        },
        "id": "Npv4HvlhAoK6",
        "outputId": "182e715b-4c16-4d20-f81c-d11e5a2d090b"
      },
      "execution_count": 66,
      "outputs": [
        {
          "output_type": "stream",
          "name": "stdout",
          "text": [
            "<class 'pandas.core.frame.DataFrame'>\n",
            "Index: 4999 entries, 22 to 69978\n",
            "Data columns (total 14 columns):\n",
            " #   Column       Non-Null Count  Dtype  \n",
            "---  ------       --------------  -----  \n",
            " 0   id           4999 non-null   int64  \n",
            " 1   age          4999 non-null   int64  \n",
            " 2   sex          4999 non-null   int64  \n",
            " 3   height       4999 non-null   int64  \n",
            " 4   weight       4999 non-null   float64\n",
            " 5   ap_hi        4999 non-null   int64  \n",
            " 6   ap_lo        4999 non-null   int64  \n",
            " 7   cholesterol  4999 non-null   int64  \n",
            " 8   gluc         4999 non-null   int64  \n",
            " 9   smoke        4999 non-null   int64  \n",
            " 10  alco         4999 non-null   int64  \n",
            " 11  active       4999 non-null   int64  \n",
            " 12  cardio       4999 non-null   int64  \n",
            " 13  age_years    4999 non-null   float64\n",
            "dtypes: float64(2), int64(12)\n",
            "memory usage: 585.8 KB\n"
          ]
        }
      ]
    },
    {
      "cell_type": "markdown",
      "source": [
        "statistical tests for normality -  Shapiro-Wilk test"
      ],
      "metadata": {
        "id": "T7D-OaegQSpt"
      }
    },
    {
      "cell_type": "code",
      "source": [
        "w_statistic, p_value = stats.shapiro(df_dropped['age_years'])\n",
        "print(p_value)"
      ],
      "metadata": {
        "colab": {
          "base_uri": "https://localhost:8080/"
        },
        "id": "4GUhmeKswj7T",
        "outputId": "ae74c290-7fff-4ca3-cdeb-4f54e5762fa2"
      },
      "execution_count": 67,
      "outputs": [
        {
          "output_type": "stream",
          "name": "stdout",
          "text": [
            "1.5430935336182123e-31\n"
          ]
        }
      ]
    },
    {
      "cell_type": "code",
      "source": [
        "pg.normality(df_dropped['age_years'])"
      ],
      "metadata": {
        "colab": {
          "base_uri": "https://localhost:8080/",
          "height": 81
        },
        "id": "9HrTnUsA3DP2",
        "outputId": "06348a95-08c1-440e-c951-00ea7680cf13"
      },
      "execution_count": 68,
      "outputs": [
        {
          "output_type": "execute_result",
          "data": {
            "text/plain": [
              "                  W          pval  normal\n",
              "age_years  0.969006  1.543094e-31   False"
            ],
            "text/html": [
              "\n",
              "  <div id=\"df-bb37877f-979c-4f91-9935-e1094f6879fc\" class=\"colab-df-container\">\n",
              "    <div>\n",
              "<style scoped>\n",
              "    .dataframe tbody tr th:only-of-type {\n",
              "        vertical-align: middle;\n",
              "    }\n",
              "\n",
              "    .dataframe tbody tr th {\n",
              "        vertical-align: top;\n",
              "    }\n",
              "\n",
              "    .dataframe thead th {\n",
              "        text-align: right;\n",
              "    }\n",
              "</style>\n",
              "<table border=\"1\" class=\"dataframe\">\n",
              "  <thead>\n",
              "    <tr style=\"text-align: right;\">\n",
              "      <th></th>\n",
              "      <th>W</th>\n",
              "      <th>pval</th>\n",
              "      <th>normal</th>\n",
              "    </tr>\n",
              "  </thead>\n",
              "  <tbody>\n",
              "    <tr>\n",
              "      <th>age_years</th>\n",
              "      <td>0.969006</td>\n",
              "      <td>1.543094e-31</td>\n",
              "      <td>False</td>\n",
              "    </tr>\n",
              "  </tbody>\n",
              "</table>\n",
              "</div>\n",
              "    <div class=\"colab-df-buttons\">\n",
              "\n",
              "  <div class=\"colab-df-container\">\n",
              "    <button class=\"colab-df-convert\" onclick=\"convertToInteractive('df-bb37877f-979c-4f91-9935-e1094f6879fc')\"\n",
              "            title=\"Convert this dataframe to an interactive table.\"\n",
              "            style=\"display:none;\">\n",
              "\n",
              "  <svg xmlns=\"http://www.w3.org/2000/svg\" height=\"24px\" viewBox=\"0 -960 960 960\">\n",
              "    <path d=\"M120-120v-720h720v720H120Zm60-500h600v-160H180v160Zm220 220h160v-160H400v160Zm0 220h160v-160H400v160ZM180-400h160v-160H180v160Zm440 0h160v-160H620v160ZM180-180h160v-160H180v160Zm440 0h160v-160H620v160Z\"/>\n",
              "  </svg>\n",
              "    </button>\n",
              "\n",
              "  <style>\n",
              "    .colab-df-container {\n",
              "      display:flex;\n",
              "      gap: 12px;\n",
              "    }\n",
              "\n",
              "    .colab-df-convert {\n",
              "      background-color: #E8F0FE;\n",
              "      border: none;\n",
              "      border-radius: 50%;\n",
              "      cursor: pointer;\n",
              "      display: none;\n",
              "      fill: #1967D2;\n",
              "      height: 32px;\n",
              "      padding: 0 0 0 0;\n",
              "      width: 32px;\n",
              "    }\n",
              "\n",
              "    .colab-df-convert:hover {\n",
              "      background-color: #E2EBFA;\n",
              "      box-shadow: 0px 1px 2px rgba(60, 64, 67, 0.3), 0px 1px 3px 1px rgba(60, 64, 67, 0.15);\n",
              "      fill: #174EA6;\n",
              "    }\n",
              "\n",
              "    .colab-df-buttons div {\n",
              "      margin-bottom: 4px;\n",
              "    }\n",
              "\n",
              "    [theme=dark] .colab-df-convert {\n",
              "      background-color: #3B4455;\n",
              "      fill: #D2E3FC;\n",
              "    }\n",
              "\n",
              "    [theme=dark] .colab-df-convert:hover {\n",
              "      background-color: #434B5C;\n",
              "      box-shadow: 0px 1px 3px 1px rgba(0, 0, 0, 0.15);\n",
              "      filter: drop-shadow(0px 1px 2px rgba(0, 0, 0, 0.3));\n",
              "      fill: #FFFFFF;\n",
              "    }\n",
              "  </style>\n",
              "\n",
              "    <script>\n",
              "      const buttonEl =\n",
              "        document.querySelector('#df-bb37877f-979c-4f91-9935-e1094f6879fc button.colab-df-convert');\n",
              "      buttonEl.style.display =\n",
              "        google.colab.kernel.accessAllowed ? 'block' : 'none';\n",
              "\n",
              "      async function convertToInteractive(key) {\n",
              "        const element = document.querySelector('#df-bb37877f-979c-4f91-9935-e1094f6879fc');\n",
              "        const dataTable =\n",
              "          await google.colab.kernel.invokeFunction('convertToInteractive',\n",
              "                                                    [key], {});\n",
              "        if (!dataTable) return;\n",
              "\n",
              "        const docLinkHtml = 'Like what you see? Visit the ' +\n",
              "          '<a target=\"_blank\" href=https://colab.research.google.com/notebooks/data_table.ipynb>data table notebook</a>'\n",
              "          + ' to learn more about interactive tables.';\n",
              "        element.innerHTML = '';\n",
              "        dataTable['output_type'] = 'display_data';\n",
              "        await google.colab.output.renderOutput(dataTable, element);\n",
              "        const docLink = document.createElement('div');\n",
              "        docLink.innerHTML = docLinkHtml;\n",
              "        element.appendChild(docLink);\n",
              "      }\n",
              "    </script>\n",
              "  </div>\n",
              "\n",
              "    </div>\n",
              "  </div>\n"
            ],
            "application/vnd.google.colaboratory.intrinsic+json": {
              "type": "dataframe",
              "summary": "{\n  \"name\": \"pg\",\n  \"rows\": 1,\n  \"fields\": [\n    {\n      \"column\": \"W\",\n      \"properties\": {\n        \"dtype\": \"number\",\n        \"std\": null,\n        \"min\": 0.9690055847167969,\n        \"max\": 0.9690055847167969,\n        \"num_unique_values\": 1,\n        \"samples\": [\n          0.9690055847167969\n        ],\n        \"semantic_type\": \"\",\n        \"description\": \"\"\n      }\n    },\n    {\n      \"column\": \"pval\",\n      \"properties\": {\n        \"dtype\": \"number\",\n        \"std\": null,\n        \"min\": 1.5430935336182123e-31,\n        \"max\": 1.5430935336182123e-31,\n        \"num_unique_values\": 1,\n        \"samples\": [\n          1.5430935336182123e-31\n        ],\n        \"semantic_type\": \"\",\n        \"description\": \"\"\n      }\n    },\n    {\n      \"column\": \"normal\",\n      \"properties\": {\n        \"dtype\": \"boolean\",\n        \"num_unique_values\": 1,\n        \"samples\": [\n          false\n        ],\n        \"semantic_type\": \"\",\n        \"description\": \"\"\n      }\n    }\n  ]\n}"
            }
          },
          "metadata": {},
          "execution_count": 68
        }
      ]
    },
    {
      "cell_type": "markdown",
      "source": [
        "for the two libraries we see one allocation value"
      ],
      "metadata": {
        "id": "3sXmGjjBUUCn"
      }
    },
    {
      "cell_type": "markdown",
      "source": [
        " the distribution is not normal, because p_value < 0.05\n",
        "\n",
        "Non-parametric Anova must be used"
      ],
      "metadata": {
        "id": "ziRaOkgD6l4X"
      }
    },
    {
      "cell_type": "markdown",
      "source": [
        "# 3)Analysis by \"cholesterol\" and \"glucose\" categories"
      ],
      "metadata": {
        "id": "Uwsr8FScRBy_"
      }
    },
    {
      "cell_type": "markdown",
      "source": [
        "I divide the data into categories (cholesterol level 1: normal, 2: higher than normal, 3: significantly higher than normal and glucose level 1: normal, 2: higher than normal, 3: significantly higher than normal, as a quantitative indicator - age)"
      ],
      "metadata": {
        "id": "WkCr0Tay7mps"
      }
    },
    {
      "cell_type": "code",
      "source": [
        "import pandas as pd\n",
        "from scipy.stats import f_oneway\n",
        "\n",
        "# functions for basic statistic\n",
        "def calculate_statistics(group):\n",
        "    count = group.shape[0]\n",
        "    mean = group['age_years'].mean()\n",
        "    std = group['age_years'].std()\n",
        "    return count, mean, std\n",
        "\n",
        "# Division into groups by \"cholesterol\" category\n",
        "ch1 = df_dropped[df_dropped[\"cholesterol\"] == 1]\n",
        "ch2 = df_dropped[df_dropped[\"cholesterol\"] == 2]\n",
        "ch3 = df_dropped[df_dropped[\"cholesterol\"] == 3]\n",
        "# Division into groups by \"glucose\" category\n",
        "g1 = df_dropped[df_dropped[\"gluc\"] == 1]\n",
        "g2 = df_dropped[df_dropped[\"gluc\"] == 2]\n",
        "g3 = df_dropped[df_dropped[\"gluc\"] == 3]\n",
        "\n",
        "# Analysis by categorical variables\n",
        "print(\"Analysis by category 'Cholesterol':\")\n",
        "print(\"1: normal\")\n",
        "count_ch1, mean_ch1, std_ch1 = calculate_statistics(ch1)\n",
        "print(\"Number of observations:\", count_ch1)\n",
        "print(\"Average age:\", mean_ch1)\n",
        "print(\"Standard deviation of age:\", std_ch1)\n",
        "\n",
        "print(\"2: above normal\")\n",
        "count_ch2, mean_ch2, std_ch2 = calculate_statistics(ch2)\n",
        "print(\"Number of observations:\", count_ch2)\n",
        "print(\"Average age:\", mean_ch2)\n",
        "print(\"Standard deviation of age:\", std_ch2)\n",
        "\n",
        "print(\"3: well above normal\")\n",
        "count_ch3, mean_ch3, std_ch3 = calculate_statistics(ch3)\n",
        "print(\"Number of observations:\", count_ch3)\n",
        "print(\"Average age:\", mean_ch3)\n",
        "print(\"Standard deviation of age:\", std_ch3)\n",
        "\n",
        "print(\"\\nAnalysis by category 'Glucose':\")\n",
        "print(\"1: normal\")\n",
        "count_g1, mean_g1, std_g1 = calculate_statistics(g1)\n",
        "print(\"Number of observations:\", count_g1)\n",
        "print(\"Average age:\", mean_g1)\n",
        "print(\"Standard deviation of age:\", std_g1)\n",
        "\n",
        "print(\"2: above normal\")\n",
        "count_g2, mean_g2, std_g2 = calculate_statistics(g2)\n",
        "print(\"Number of observations:\", count_g2)\n",
        "print(\"Average age:\", mean_g2)\n",
        "print(\"Standard deviation of age:\", std_g2)\n",
        "\n",
        "print(\"3: well above normal\")\n",
        "count_g3, mean_g3, std_g3 = calculate_statistics(g3)\n",
        "print(\"Number of observations:\", count_g3)\n",
        "print(\"Average age:\", mean_g3)\n",
        "print(\"Standard deviation of age:\", std_g3)\n",
        "\n",
        "\n"
      ],
      "metadata": {
        "colab": {
          "base_uri": "https://localhost:8080/"
        },
        "id": "8TGoZ-we7Edl",
        "outputId": "9b2dd8ce-321c-4385-fed5-26426f507889"
      },
      "execution_count": 69,
      "outputs": [
        {
          "output_type": "stream",
          "name": "stdout",
          "text": [
            "Analysis by category 'Cholesterol':\n",
            "1: normal\n",
            "Number of observations: 3711\n",
            "Average age: 52.7889310934172\n",
            "Standard deviation of age: 6.68072160520346\n",
            "2: above normal\n",
            "Number of observations: 707\n",
            "Average age: 53.70578365077212\n",
            "Standard deviation of age: 6.6103228037327435\n",
            "3: well above normal\n",
            "Number of observations: 581\n",
            "Average age: 56.41822554405489\n",
            "Standard deviation of age: 5.449736904438062\n",
            "\n",
            "Analysis by category 'Glucose':\n",
            "1: normal\n",
            "Number of observations: 4256\n",
            "Average age: 53.09557176331239\n",
            "Standard deviation of age: 6.663555334081175\n",
            "2: above normal\n",
            "Number of observations: 368\n",
            "Average age: 53.94437164979154\n",
            "Standard deviation of age: 6.752558380458132\n",
            "3: well above normal\n",
            "Number of observations: 375\n",
            "Average age: 55.52645114155251\n",
            "Standard deviation of age: 5.7897491392922396\n"
          ]
        }
      ]
    },
    {
      "cell_type": "markdown",
      "source": [
        "The average value in the groups is different"
      ],
      "metadata": {
        "id": "RD64jqmkU8eB"
      }
    },
    {
      "cell_type": "markdown",
      "source": [
        "visualization of groups"
      ],
      "metadata": {
        "id": "ZDZl4uurEkHh"
      }
    },
    {
      "cell_type": "code",
      "source": [
        "# Division into groups by \"cholesterol\" category\n",
        "ch1 = df_dropped[df_dropped[\"cholesterol\"] == 1]\n",
        "ch2 = df_dropped[df_dropped[\"cholesterol\"] == 2]\n",
        "ch3 = df_dropped[df_dropped[\"cholesterol\"] == 3]\n",
        "\n",
        "# Division into groups by \"glucose\" category\n",
        "g1 = df_dropped[df_dropped[\"gluc\"] == 1]\n",
        "g2 = df_dropped[df_dropped[\"gluc\"] == 2]\n",
        "g3 = df_dropped[df_dropped[\"gluc\"] == 3]\n",
        "\n",
        "# Creating lists for box plots\n",
        "groups_ch = [ch1['age_years'], ch2['age_years'], ch3['age_years']]\n",
        "groups_g = [g1['age_years'], g2['age_years'], g3['age_years']]\n",
        "\n",
        "# Construction of box plots\n",
        "\n",
        "# For sex (Sex)\n",
        "plt.figure(figsize=(8, 6))\n",
        "plt.boxplot(groups_ch, labels=['normal', 'above normal', 'well above normal'])\n",
        "plt.title(\"Box plots for age distribution by cholesterol level\")\n",
        "plt.ylabel(\"Age\")\n",
        "plt.show()\n",
        "\n",
        "# For the diagnosis of resting electrocardiogram (RestingECG)\n",
        "plt.figure(figsize=(8, 6))\n",
        "plt.boxplot(groups_g, labels=['normal', 'above normal', 'well above normal'])\n",
        "plt.title(\"Box plots for age distribution by glucose level\")\n",
        "plt.ylabel(\"Age\")\n",
        "plt.show()"
      ],
      "metadata": {
        "colab": {
          "base_uri": "https://localhost:8080/",
          "height": 1000
        },
        "id": "iQZKc5N6sPPX",
        "outputId": "db216db6-8ea6-4039-fd6b-be33c2384742"
      },
      "execution_count": 70,
      "outputs": [
        {
          "output_type": "display_data",
          "data": {
            "text/plain": [
              "<Figure size 800x600 with 1 Axes>"
            ],
            "image/png": "[encoded data removed]"
          },
          "metadata": {}
        },
        {
          "output_type": "display_data",
          "data": {
            "text/plain": [
              "<Figure size 800x600 with 1 Axes>"
            ],
            "image/png": "[encoded data removed]"
          },
          "metadata": {}
        }
      ]
    },
    {
      "cell_type": "markdown",
      "source": [
        "Here we see the same thing, the average value is different\n",
        "\n"
      ],
      "metadata": {
        "id": "9Xproe81VHi5"
      }
    },
    {
      "cell_type": "code",
      "source": [],
      "metadata": {
        "id": "XnPKYCiFUzbk"
      },
      "execution_count": 70,
      "outputs": []
    },
    {
      "cell_type": "markdown",
      "source": [
        "# Kruskal-Wallis test"
      ],
      "metadata": {
        "id": "PJjr1OeVWOTW"
      }
    },
    {
      "cell_type": "markdown",
      "source": [
        "Now I'm doing an analysis\n",
        "\n",
        " hypotheses:\n",
        "\n",
        "\n",
        "H0 - null hypothesis that all groups have the same\n",
        "average values.\n",
        "\n",
        "H1 - there are statistically significant differences between\n",
        "average values"
      ],
      "metadata": {
        "id": "tzsyK3JQUyrq"
      }
    },
    {
      "cell_type": "code",
      "source": [
        "from scipy.stats import kruskal\n",
        "\n",
        "\n",
        "h_value, p_value = kruskal(ch1['age_years'], ch2['age_years'], ch3['age_years'])\n",
        "\n",
        "print(\"H-значение:\", h_value)\n",
        "print(\"p-значение:\", p_value)\n"
      ],
      "metadata": {
        "colab": {
          "base_uri": "https://localhost:8080/"
        },
        "id": "F5R4wXgYI-GZ",
        "outputId": "bfbfc41a-0c81-4335-9805-9df57d50ae1a"
      },
      "execution_count": 71,
      "outputs": [
        {
          "output_type": "stream",
          "name": "stdout",
          "text": [
            "H-значение: 149.47569439895435\n",
            "p-значение: 3.4814917625226514e-33\n"
          ]
        }
      ]
    },
    {
      "cell_type": "markdown",
      "source": [
        "According to the non-parametric Anova (Kruskal-Wallis) test, I reject the 0 hypothesis"
      ],
      "metadata": {
        "id": "o5D5bvDRYn-n"
      }
    },
    {
      "cell_type": "code",
      "source": [
        "from scipy.stats import kruskal\n",
        "\n",
        "\n",
        "h_value, p_value = kruskal(g1['age_years'], g2['age_years'], g3['age_years'])\n",
        "\n",
        "print(\"H-значение:\", h_value)\n",
        "print(\"p-значение:\", p_value)\n"
      ],
      "metadata": {
        "colab": {
          "base_uri": "https://localhost:8080/"
        },
        "id": "XxVpIOu1KOjX",
        "outputId": "b7fa26a4-8eb5-45d4-fdfd-28ad3813a927"
      },
      "execution_count": 72,
      "outputs": [
        {
          "output_type": "stream",
          "name": "stdout",
          "text": [
            "H-значение: 49.74640260407676\n",
            "p-значение: 1.5765433872850645e-11\n"
          ]
        }
      ]
    },
    {
      "cell_type": "markdown",
      "source": [
        "another group, the result of the same, we reject the 0 hypothesis"
      ],
      "metadata": {
        "id": "wAt55_ThZDMq"
      }
    },
    {
      "cell_type": "markdown",
      "source": [
        "# working with the initial dataset"
      ],
      "metadata": {
        "id": "GwB4MznAZa7U"
      }
    },
    {
      "cell_type": "code",
      "source": [
        "# Division into groups by \"cholesterol\" category\n",
        "ch1 = df[df[\"cholesterol\"] == 1]\n",
        "ch2 = df[df[\"cholesterol\"] == 2]\n",
        "ch3 = df[df[\"cholesterol\"] == 3]\n",
        "\n",
        "# Division into groups by \"glucose\" category\n",
        "g1 = df[df[\"gluc\"] == 1]\n",
        "g2 = df[df[\"gluc\"] == 2]\n",
        "g3 = df[df[\"gluc\"] == 3]\n",
        "\n",
        "# Creating lists for box plots\n",
        "groups_ch = [ch1['age_years'], ch2['age_years'], ch3['age_years']]\n",
        "groups_g = [g1['age_years'], g2['age_years'], g3['age_years']]\n",
        "\n",
        "# Construction of box plots\n",
        "\n",
        "plt.figure(figsize=(8, 6))\n",
        "plt.boxplot(groups_ch, labels=['normal', 'above normal', 'well above normal'])\n",
        "plt.title(\"Box plots for age distribution by cholesterol level\")\n",
        "plt.ylabel(\"Age\")\n",
        "plt.show()\n",
        "\n",
        "plt.figure(figsize=(8, 6))\n",
        "plt.boxplot(groups_g, labels=['normal', 'above normal', 'well above normal'])\n",
        "plt.title(\"Box plots for age distribution by glucose level\")\n",
        "plt.ylabel(\"Age\")\n",
        "plt.show()"
      ],
      "metadata": {
        "colab": {
          "base_uri": "https://localhost:8080/",
          "height": 1000
        },
        "id": "OoZT-mS_Zvmg",
        "outputId": "09430739-831c-4c39-899e-a712f76dde88"
      },
      "execution_count": 73,
      "outputs": [
        {
          "output_type": "display_data",
          "data": {
            "text/plain": [
              "<Figure size 800x600 with 1 Axes>"
            ],
            "image/png": "[encoded data removed]"
          },
          "metadata": {}
        },
        {
          "output_type": "display_data",
          "data": {
            "text/plain": [
              "<Figure size 800x600 with 1 Axes>"
            ],
            "image/png": "[encoded data removed]"
          },
          "metadata": {}
        }
      ]
    },
    {
      "cell_type": "markdown",
      "source": [
        "# Also non-parametric ANOVA\n",
        "\n"
      ],
      "metadata": {
        "id": "n8VqgjKlqZjM"
      }
    },
    {
      "cell_type": "markdown",
      "source": [
        "\n",
        "\n",
        "\n",
        "H0 - null hypothesis that all groups have the same\n",
        "average values.\n",
        "\n",
        "H1 - there are statistically significant differences between\n",
        "average values"
      ],
      "metadata": {
        "id": "fnEC_KUWU2-j"
      }
    },
    {
      "cell_type": "code",
      "source": [
        "from scipy.stats import kruskal\n",
        "h_value, p_value = kruskal(g1['age_years'], g2['age_years'], g3['age_years'])\n",
        "\n",
        "print(\"H-значение:\", h_value)\n",
        "print(\"p-значение:\", p_value)\n"
      ],
      "metadata": {
        "colab": {
          "base_uri": "https://localhost:8080/"
        },
        "id": "cFpXtPs2rDVC",
        "outputId": "500b39f0-bdd6-44ef-a7b9-58e681110e46"
      },
      "execution_count": 77,
      "outputs": [
        {
          "output_type": "stream",
          "name": "stdout",
          "text": [
            "H-значение: 699.4875584456599\n",
            "p-значение: 1.2829407609358133e-152\n"
          ]
        }
      ]
    },
    {
      "cell_type": "markdown",
      "source": [
        "is confirmed by H1"
      ],
      "metadata": {
        "id": "zjCXnJ5qrj2K"
      }
    },
    {
      "cell_type": "code",
      "source": [
        "from scipy.stats import kruskal\n",
        "h_value, p_value = kruskal(ch1['age_years'], ch2['age_years'], ch3['age_years'])\n",
        "\n",
        "print(\"H-значение:\", h_value)\n",
        "print(\"p-значение:\", p_value)\n"
      ],
      "metadata": {
        "colab": {
          "base_uri": "https://localhost:8080/"
        },
        "id": "TzPA9eCcUGtN",
        "outputId": "ae61c406-0db3-45ba-cfb6-276386b0e5c3"
      },
      "execution_count": 78,
      "outputs": [
        {
          "output_type": "stream",
          "name": "stdout",
          "text": [
            "H-значение: 1760.540984377018\n",
            "p-значение: 0.0\n"
          ]
        }
      ]
    },
    {
      "cell_type": "markdown",
      "source": [
        "is also confirmed by H1"
      ],
      "metadata": {
        "id": "wIYzexUmUTlD"
      }
    },
    {
      "cell_type": "markdown",
      "source": [
        "# 4)Correlation"
      ],
      "metadata": {
        "id": "HlNwHUMG2MWh"
      }
    },
    {
      "cell_type": "code",
      "source": [
        "df_heat = df[(df['ap_lo'] <= df['ap_hi']) &\n",
        "             (df['height'] >= df['height'].quantile(0.025)) &\n",
        "             (df['height'] <= df['height'].quantile(0.975)) &\n",
        "             (df['weight'] >= df['weight'].quantile(0.025)) &\n",
        "             (df['weight'] <= df['weight'].quantile(0.975))\n",
        "             ]\n",
        "\n",
        "# Calculate the correlation matrix\n",
        "corr = df_heat.corr()\n",
        "\n",
        "print(corr)\n",
        "\n"
      ],
      "metadata": {
        "id": "KY-XecOca3NR",
        "colab": {
          "base_uri": "https://localhost:8080/"
        },
        "outputId": "9ca6af87-9512-454c-dd66-a7699c25e2d0"
      },
      "execution_count": 79,
      "outputs": [
        {
          "output_type": "stream",
          "name": "stdout",
          "text": [
            "                   id       age       sex    height    weight     ap_hi  \\\n",
            "id           1.000000  0.002507  0.003426  0.000326  0.000149  0.003492   \n",
            "age          0.002507  1.000000 -0.018132 -0.076932  0.070168  0.018689   \n",
            "sex          0.003426 -0.018132  1.000000  0.505785  0.129979  0.005063   \n",
            "height       0.000326 -0.076932  0.505785  1.000000  0.251503  0.004586   \n",
            "weight       0.000149  0.070168  0.129979  0.251503  1.000000  0.027030   \n",
            "ap_hi        0.003492  0.018689  0.005063  0.004586  0.027030  1.000000   \n",
            "ap_lo        0.000484  0.153508  0.059947  0.017922  0.227922  0.072803   \n",
            "cholesterol  0.005581  0.154642 -0.038756 -0.065980  0.137705  0.021499   \n",
            "gluc         0.002242  0.097646 -0.023419 -0.028364  0.094133  0.010226   \n",
            "smoke       -0.002732 -0.044371  0.337436  0.187830  0.056533 -0.001928   \n",
            "alco        -0.000708 -0.026970  0.168637  0.089785  0.059917  0.000769   \n",
            "active       0.005891 -0.011445  0.007864 -0.005661 -0.014430 -0.000222   \n",
            "cardio       0.003900  0.240241  0.002320 -0.024102  0.170042  0.050556   \n",
            "age_years    0.002507  1.000000 -0.018132 -0.076932  0.070168  0.018689   \n",
            "\n",
            "                ap_lo  cholesterol      gluc     smoke      alco    active  \\\n",
            "id           0.000484     0.005581  0.002242 -0.002732 -0.000708  0.005891   \n",
            "age          0.153508     0.154642  0.097646 -0.044371 -0.026970 -0.011445   \n",
            "sex          0.059947    -0.038756 -0.023419  0.337436  0.168637  0.007864   \n",
            "height       0.017922    -0.065980 -0.028364  0.187830  0.089785 -0.005661   \n",
            "weight       0.227922     0.137705  0.094133  0.056533  0.059917 -0.014430   \n",
            "ap_hi        0.072803     0.021499  0.010226 -0.001928  0.000769 -0.000222   \n",
            "ap_lo        1.000000     0.154348  0.067048  0.023275  0.033042  0.001569   \n",
            "cholesterol  0.154348     1.000000  0.451388  0.005696  0.031050  0.007381   \n",
            "gluc         0.067048     0.451388  1.000000 -0.010225  0.005805 -0.007709   \n",
            "smoke        0.023275     0.005696 -0.010225  1.000000  0.341200  0.026940   \n",
            "alco         0.033042     0.031050  0.005805  0.341200  1.000000  0.025847   \n",
            "active       0.001569     0.007381 -0.007709  0.026940  0.025847  1.000000   \n",
            "cardio       0.327181     0.219090  0.087621 -0.020345 -0.011088 -0.037339   \n",
            "age_years    0.153508     0.154642  0.097646 -0.044371 -0.026970 -0.011445   \n",
            "\n",
            "               cardio  age_years  \n",
            "id           0.003900   0.002507  \n",
            "age          0.240241   1.000000  \n",
            "sex          0.002320  -0.018132  \n",
            "height      -0.024102  -0.076932  \n",
            "weight       0.170042   0.070168  \n",
            "ap_hi        0.050556   0.018689  \n",
            "ap_lo        0.327181   0.153508  \n",
            "cholesterol  0.219090   0.154642  \n",
            "gluc         0.087621   0.097646  \n",
            "smoke       -0.020345  -0.044371  \n",
            "alco        -0.011088  -0.026970  \n",
            "active      -0.037339  -0.011445  \n",
            "cardio       1.000000   0.240241  \n",
            "age_years    0.240241   1.000000  \n"
          ]
        }
      ]
    },
    {
      "cell_type": "markdown",
      "source": [
        "# 5)correlation matrix"
      ],
      "metadata": {
        "id": "ukudz6gY2QLI"
      }
    },
    {
      "cell_type": "code",
      "source": [
        "import plotly.io as pio\n",
        "import plotly.express as px\n",
        "df_heat = df[(df['ap_lo'] <= df['ap_hi']) &\n",
        "             (df['height'] >= df['height'].quantile(0.025)) &\n",
        "             (df['height'] <= df['height'].quantile(0.975)) &\n",
        "             (df['weight'] >= df['weight'].quantile(0.025)) &\n",
        "             (df['weight'] <= df['weight'].quantile(0.975))\n",
        "             ]\n",
        "\n",
        "fig6 = px.imshow(df_heat.corr(),\n",
        "                 color_continuous_scale='sunset',\n",
        "                 )\n",
        "fig6.show()"
      ],
      "metadata": {
        "id": "LA_H82k6ENm6",
        "colab": {
          "base_uri": "https://localhost:8080/",
          "height": 542
        },
        "outputId": "a2f06903-945f-4a2f-d36f-d580c7d20495"
      },
      "execution_count": 80,
      "outputs": [
        {
          "output_type": "display_data",
          "data": {
            "text/html": [
              "<html>\n",
              "<head><meta charset=\"utf-8\" /></head>\n",
              "<body>\n",
              "    <div>            <script src=\"https://cdnjs.cloudflare.com/ajax/libs/mathjax/2.7.5/MathJax.js?config=TeX-AMS-MML_SVG\"></script><script type=\"text/javascript\">if (window.MathJax && window.MathJax.Hub && window.MathJax.Hub.Config) {window.MathJax.Hub.Config({SVG: {font: \"STIX-Web\"}});}</script>                <script type=\"text/javascript\">window.PlotlyConfig = {MathJaxConfig: 'local'};</script>\n",
              "        <script charset=\"utf-8\" src=\"https://cdn.plot.ly/plotly-2.24.1.min.js\"></script>                <div id=\"9756d488-e293-4070-aab6-c75c9240714b\" class=\"plotly-graph-div\" style=\"height:525px; width:100%;\"></div>            <script type=\"text/javascript\">                                    window.PLOTLYENV=window.PLOTLYENV || {};                                    if (document.getElementById(\"9756d488-e293-4070-aab6-c75c9240714b\")) {                    Plotly.newPlot(                        \"9756d488-e293-4070-aab6-c75c9240714b\",                        [{\"coloraxis\":\"coloraxis\",\"name\":\"0\",\"x\":[\"id\",\"age\",\"sex\",\"height\",\"weight\",\"ap_hi\",\"ap_lo\",\"cholesterol\",\"gluc\",\"smoke\",\"alco\",\"active\",\"cardio\",\"age_years\"],\"y\":[\"id\",\"age\",\"sex\",\"height\",\"weight\",\"ap_hi\",\"ap_lo\",\"cholesterol\",\"gluc\",\"smoke\",\"alco\",\"active\",\"cardio\",\"age_years\"],\"z\":[[1.0,0.0025072969092681634,0.0034261027264301564,0.0003259167086266509,0.00014933322409345042,0.0034923802302283553,0.00048367079267659175,0.005581493231974589,0.0022417373759315647,-0.002732277253507437,-0.0007080598039785456,0.005891142231622055,0.0039001105893574028,0.0025072969092329945],[0.0025072969092681634,1.0,-0.018132005170417416,-0.07693183469493688,0.07016838963521839,0.018689409499975544,0.1535079732595693,0.15464159082787426,0.09764592608758983,-0.04437064713346754,-0.026969538193153567,-0.011445126621615143,0.24024108885049072,1.0000000000000042],[0.0034261027264301564,-0.018132005170417416,1.0,0.5057848507637838,0.12997931959559772,0.005062504079534954,0.059946648389887724,-0.038755525630142056,-0.023419461886546075,0.3374358810139041,0.1686371239445751,0.00786370242189266,0.002319991579168963,-0.018132005170417364],[0.0003259167086266509,-0.07693183469493688,0.5057848507637838,1.0,0.2515028648085005,0.004585736251875685,0.01792243312707317,-0.0659804013664336,-0.028363765802427814,0.18782957526071972,0.08978505227756613,-0.0056614797180287975,-0.02410191673657932,-0.07693183469493672],[0.00014933322409345042,0.07016838963521839,0.12997931959559772,0.2515028648085005,1.0,0.027030186373336523,0.2279216443009737,0.13770534423212816,0.09413257482186169,0.056532832107461295,0.05991665853434224,-0.014430241454390362,0.1700417861938595,0.07016838963521795],[0.0034923802302283553,0.018689409499975544,0.005062504079534954,0.004585736251875685,0.027030186373336523,1.0,0.07280276456113917,0.02149905339857833,0.010225741872825734,-0.0019277303420850971,0.0007692140834871553,-0.000222293524961552,0.05055591013013544,0.01868940949997561],[0.00048367079267659175,0.1535079732595693,0.059946648389887724,0.01792243312707317,0.2279216443009737,0.07280276456113917,1.0,0.1543483232521762,0.06704768625292239,0.023274577286351638,0.033041808675725114,0.0015694568506961681,0.32718090540021355,0.15350797325956952],[0.005581493231974589,0.15464159082787426,-0.038755525630142056,-0.0659804013664336,0.13770534423212816,0.02149905339857833,0.1543483232521762,1.0,0.45138812559902114,0.005695588884393851,0.031050085382432674,0.007380859381406676,0.21908990540169096,0.1546415908278757],[0.0022417373759315647,0.09764592608758983,-0.023419461886546075,-0.028363765802427814,0.09413257482186169,0.010225741872825734,0.06704768625292239,0.45138812559902114,1.0,-0.01022461132135587,0.005804710262075599,-0.007708900450508226,0.08762119651033615,0.09764592608759],[-0.002732277253507437,-0.04437064713346754,0.3374358810139041,0.18782957526071972,0.056532832107461295,-0.0019277303420850971,0.023274577286351638,0.005695588884393851,-0.01022461132135587,1.0,0.34120042542324563,0.02693953347335763,-0.020344821545063722,-0.04437064713346721],[-0.0007080598039785456,-0.026969538193153567,0.1686371239445751,0.08978505227756613,0.05991665853434224,0.0007692140834871553,0.033041808675725114,0.031050085382432674,0.005804710262075599,0.34120042542324563,1.0,0.0258472804627451,-0.01108798437812382,-0.026969538193153196],[0.005891142231622055,-0.011445126621615143,0.00786370242189266,-0.0056614797180287975,-0.014430241454390362,-0.000222293524961552,0.0015694568506961681,0.007380859381406676,-0.007708900450508226,0.02693953347335763,0.0258472804627451,1.0,-0.03733938354540587,-0.0114451266216152],[0.0039001105893574028,0.24024108885049072,0.002319991579168963,-0.02410191673657932,0.1700417861938595,0.05055591013013544,0.32718090540021355,0.21908990540169096,0.08762119651033615,-0.020344821545063722,-0.01108798437812382,-0.03733938354540587,1.0,0.2402410888504871],[0.0025072969092329945,1.0000000000000042,-0.018132005170417364,-0.07693183469493672,0.07016838963521795,0.01868940949997561,0.15350797325956952,0.1546415908278757,0.09764592608759,-0.04437064713346721,-0.026969538193153196,-0.0114451266216152,0.2402410888504871,1.0]],\"type\":\"heatmap\",\"xaxis\":\"x\",\"yaxis\":\"y\",\"hovertemplate\":\"x: %{x}\\u003cbr\\u003ey: %{y}\\u003cbr\\u003ecolor: %{z}\\u003cextra\\u003e\\u003c\\u002fextra\\u003e\"}],                        {\"template\":{\"data\":{\"histogram2dcontour\":[{\"type\":\"histogram2dcontour\",\"colorbar\":{\"outlinewidth\":0,\"ticks\":\"\"},\"colorscale\":[[0.0,\"#0d0887\"],[0.1111111111111111,\"#46039f\"],[0.2222222222222222,\"#7201a8\"],[0.3333333333333333,\"#9c179e\"],[0.4444444444444444,\"#bd3786\"],[0.5555555555555556,\"#d8576b\"],[0.6666666666666666,\"#ed7953\"],[0.7777777777777778,\"#fb9f3a\"],[0.8888888888888888,\"#fdca26\"],[1.0,\"#f0f921\"]]}],\"choropleth\":[{\"type\":\"choropleth\",\"colorbar\":{\"outlinewidth\":0,\"ticks\":\"\"}}],\"histogram2d\":[{\"type\":\"histogram2d\",\"colorbar\":{\"outlinewidth\":0,\"ticks\":\"\"},\"colorscale\":[[0.0,\"#0d0887\"],[0.1111111111111111,\"#46039f\"],[0.2222222222222222,\"#7201a8\"],[0.3333333333333333,\"#9c179e\"],[0.4444444444444444,\"#bd3786\"],[0.5555555555555556,\"#d8576b\"],[0.6666666666666666,\"#ed7953\"],[0.7777777777777778,\"#fb9f3a\"],[0.8888888888888888,\"#fdca26\"],[1.0,\"#f0f921\"]]}],\"heatmap\":[{\"type\":\"heatmap\",\"colorbar\":{\"outlinewidth\":0,\"ticks\":\"\"},\"colorscale\":[[0.0,\"#0d0887\"],[0.1111111111111111,\"#46039f\"],[0.2222222222222222,\"#7201a8\"],[0.3333333333333333,\"#9c179e\"],[0.4444444444444444,\"#bd3786\"],[0.5555555555555556,\"#d8576b\"],[0.6666666666666666,\"#ed7953\"],[0.7777777777777778,\"#fb9f3a\"],[0.8888888888888888,\"#fdca26\"],[1.0,\"#f0f921\"]]}],\"heatmapgl\":[{\"type\":\"heatmapgl\",\"colorbar\":{\"outlinewidth\":0,\"ticks\":\"\"},\"colorscale\":[[0.0,\"#0d0887\"],[0.1111111111111111,\"#46039f\"],[0.2222222222222222,\"#7201a8\"],[0.3333333333333333,\"#9c179e\"],[0.4444444444444444,\"#bd3786\"],[0.5555555555555556,\"#d8576b\"],[0.6666666666666666,\"#ed7953\"],[0.7777777777777778,\"#fb9f3a\"],[0.8888888888888888,\"#fdca26\"],[1.0,\"#f0f921\"]]}],\"contourcarpet\":[{\"type\":\"contourcarpet\",\"colorbar\":{\"outlinewidth\":0,\"ticks\":\"\"}}],\"contour\":[{\"type\":\"contour\",\"colorbar\":{\"outlinewidth\":0,\"ticks\":\"\"},\"colorscale\":[[0.0,\"#0d0887\"],[0.1111111111111111,\"#46039f\"],[0.2222222222222222,\"#7201a8\"],[0.3333333333333333,\"#9c179e\"],[0.4444444444444444,\"#bd3786\"],[0.5555555555555556,\"#d8576b\"],[0.6666666666666666,\"#ed7953\"],[0.7777777777777778,\"#fb9f3a\"],[0.8888888888888888,\"#fdca26\"],[1.0,\"#f0f921\"]]}],\"surface\":[{\"type\":\"surface\",\"colorbar\":{\"outlinewidth\":0,\"ticks\":\"\"},\"colorscale\":[[0.0,\"#0d0887\"],[0.1111111111111111,\"#46039f\"],[0.2222222222222222,\"#7201a8\"],[0.3333333333333333,\"#9c179e\"],[0.4444444444444444,\"#bd3786\"],[0.5555555555555556,\"#d8576b\"],[0.6666666666666666,\"#ed7953\"],[0.7777777777777778,\"#fb9f3a\"],[0.8888888888888888,\"#fdca26\"],[1.0,\"#f0f921\"]]}],\"mesh3d\":[{\"type\":\"mesh3d\",\"colorbar\":{\"outlinewidth\":0,\"ticks\":\"\"}}],\"scatter\":[{\"fillpattern\":{\"fillmode\":\"overlay\",\"size\":10,\"solidity\":0.2},\"type\":\"scatter\"}],\"parcoords\":[{\"type\":\"parcoords\",\"line\":{\"colorbar\":{\"outlinewidth\":0,\"ticks\":\"\"}}}],\"scatterpolargl\":[{\"type\":\"scatterpolargl\",\"marker\":{\"colorbar\":{\"outlinewidth\":0,\"ticks\":\"\"}}}],\"bar\":[{\"error_x\":{\"color\":\"#2a3f5f\"},\"error_y\":{\"color\":\"#2a3f5f\"},\"marker\":{\"line\":{\"color\":\"#E5ECF6\",\"width\":0.5},\"pattern\":{\"fillmode\":\"overlay\",\"size\":10,\"solidity\":0.2}},\"type\":\"bar\"}],\"scattergeo\":[{\"type\":\"scattergeo\",\"marker\":{\"colorbar\":{\"outlinewidth\":0,\"ticks\":\"\"}}}],\"scatterpolar\":[{\"type\":\"scatterpolar\",\"marker\":{\"colorbar\":{\"outlinewidth\":0,\"ticks\":\"\"}}}],\"histogram\":[{\"marker\":{\"pattern\":{\"fillmode\":\"overlay\",\"size\":10,\"solidity\":0.2}},\"type\":\"histogram\"}],\"scattergl\":[{\"type\":\"scattergl\",\"marker\":{\"colorbar\":{\"outlinewidth\":0,\"ticks\":\"\"}}}],\"scatter3d\":[{\"type\":\"scatter3d\",\"line\":{\"colorbar\":{\"outlinewidth\":0,\"ticks\":\"\"}},\"marker\":{\"colorbar\":{\"outlinewidth\":0,\"ticks\":\"\"}}}],\"scattermapbox\":[{\"type\":\"scattermapbox\",\"marker\":{\"colorbar\":{\"outlinewidth\":0,\"ticks\":\"\"}}}],\"scatterternary\":[{\"type\":\"scatterternary\",\"marker\":{\"colorbar\":{\"outlinewidth\":0,\"ticks\":\"\"}}}],\"scattercarpet\":[{\"type\":\"scattercarpet\",\"marker\":{\"colorbar\":{\"outlinewidth\":0,\"ticks\":\"\"}}}],\"carpet\":[{\"aaxis\":{\"endlinecolor\":\"#2a3f5f\",\"gridcolor\":\"white\",\"linecolor\":\"white\",\"minorgridcolor\":\"white\",\"startlinecolor\":\"#2a3f5f\"},\"baxis\":{\"endlinecolor\":\"#2a3f5f\",\"gridcolor\":\"white\",\"linecolor\":\"white\",\"minorgridcolor\":\"white\",\"startlinecolor\":\"#2a3f5f\"},\"type\":\"carpet\"}],\"table\":[{\"cells\":{\"fill\":{\"color\":\"#EBF0F8\"},\"line\":{\"color\":\"white\"}},\"header\":{\"fill\":{\"color\":\"#C8D4E3\"},\"line\":{\"color\":\"white\"}},\"type\":\"table\"}],\"barpolar\":[{\"marker\":{\"line\":{\"color\":\"#E5ECF6\",\"width\":0.5},\"pattern\":{\"fillmode\":\"overlay\",\"size\":10,\"solidity\":0.2}},\"type\":\"barpolar\"}],\"pie\":[{\"automargin\":true,\"type\":\"pie\"}]},\"layout\":{\"autotypenumbers\":\"strict\",\"colorway\":[\"#636efa\",\"#EF553B\",\"#00cc96\",\"#ab63fa\",\"#FFA15A\",\"#19d3f3\",\"#FF6692\",\"#B6E880\",\"#FF97FF\",\"#FECB52\"],\"font\":{\"color\":\"#2a3f5f\"},\"hovermode\":\"closest\",\"hoverlabel\":{\"align\":\"left\"},\"paper_bgcolor\":\"white\",\"plot_bgcolor\":\"#E5ECF6\",\"polar\":{\"bgcolor\":\"#E5ECF6\",\"angularaxis\":{\"gridcolor\":\"white\",\"linecolor\":\"white\",\"ticks\":\"\"},\"radialaxis\":{\"gridcolor\":\"white\",\"linecolor\":\"white\",\"ticks\":\"\"}},\"ternary\":{\"bgcolor\":\"#E5ECF6\",\"aaxis\":{\"gridcolor\":\"white\",\"linecolor\":\"white\",\"ticks\":\"\"},\"baxis\":{\"gridcolor\":\"white\",\"linecolor\":\"white\",\"ticks\":\"\"},\"caxis\":{\"gridcolor\":\"white\",\"linecolor\":\"white\",\"ticks\":\"\"}},\"coloraxis\":{\"colorbar\":{\"outlinewidth\":0,\"ticks\":\"\"}},\"colorscale\":{\"sequential\":[[0.0,\"#0d0887\"],[0.1111111111111111,\"#46039f\"],[0.2222222222222222,\"#7201a8\"],[0.3333333333333333,\"#9c179e\"],[0.4444444444444444,\"#bd3786\"],[0.5555555555555556,\"#d8576b\"],[0.6666666666666666,\"#ed7953\"],[0.7777777777777778,\"#fb9f3a\"],[0.8888888888888888,\"#fdca26\"],[1.0,\"#f0f921\"]],\"sequentialminus\":[[0.0,\"#0d0887\"],[0.1111111111111111,\"#46039f\"],[0.2222222222222222,\"#7201a8\"],[0.3333333333333333,\"#9c179e\"],[0.4444444444444444,\"#bd3786\"],[0.5555555555555556,\"#d8576b\"],[0.6666666666666666,\"#ed7953\"],[0.7777777777777778,\"#fb9f3a\"],[0.8888888888888888,\"#fdca26\"],[1.0,\"#f0f921\"]],\"diverging\":[[0,\"#8e0152\"],[0.1,\"#c51b7d\"],[0.2,\"#de77ae\"],[0.3,\"#f1b6da\"],[0.4,\"#fde0ef\"],[0.5,\"#f7f7f7\"],[0.6,\"#e6f5d0\"],[0.7,\"#b8e186\"],[0.8,\"#7fbc41\"],[0.9,\"#4d9221\"],[1,\"#276419\"]]},\"xaxis\":{\"gridcolor\":\"white\",\"linecolor\":\"white\",\"ticks\":\"\",\"title\":{\"standoff\":15},\"zerolinecolor\":\"white\",\"automargin\":true,\"zerolinewidth\":2},\"yaxis\":{\"gridcolor\":\"white\",\"linecolor\":\"white\",\"ticks\":\"\",\"title\":{\"standoff\":15},\"zerolinecolor\":\"white\",\"automargin\":true,\"zerolinewidth\":2},\"scene\":{\"xaxis\":{\"backgroundcolor\":\"#E5ECF6\",\"gridcolor\":\"white\",\"linecolor\":\"white\",\"showbackground\":true,\"ticks\":\"\",\"zerolinecolor\":\"white\",\"gridwidth\":2},\"yaxis\":{\"backgroundcolor\":\"#E5ECF6\",\"gridcolor\":\"white\",\"linecolor\":\"white\",\"showbackground\":true,\"ticks\":\"\",\"zerolinecolor\":\"white\",\"gridwidth\":2},\"zaxis\":{\"backgroundcolor\":\"#E5ECF6\",\"gridcolor\":\"white\",\"linecolor\":\"white\",\"showbackground\":true,\"ticks\":\"\",\"zerolinecolor\":\"white\",\"gridwidth\":2}},\"shapedefaults\":{\"line\":{\"color\":\"#2a3f5f\"}},\"annotationdefaults\":{\"arrowcolor\":\"#2a3f5f\",\"arrowhead\":0,\"arrowwidth\":1},\"geo\":{\"bgcolor\":\"white\",\"landcolor\":\"#E5ECF6\",\"subunitcolor\":\"white\",\"showland\":true,\"showlakes\":true,\"lakecolor\":\"white\"},\"title\":{\"x\":0.05},\"mapbox\":{\"style\":\"light\"}}},\"xaxis\":{\"anchor\":\"y\",\"domain\":[0.0,1.0],\"scaleanchor\":\"y\",\"constrain\":\"domain\"},\"yaxis\":{\"anchor\":\"x\",\"domain\":[0.0,1.0],\"autorange\":\"reversed\",\"constrain\":\"domain\"},\"coloraxis\":{\"colorscale\":[[0.0,\"rgb(243, 231, 155)\"],[0.16666666666666666,\"rgb(250, 196, 132)\"],[0.3333333333333333,\"rgb(248, 160, 126)\"],[0.5,\"rgb(235, 127, 134)\"],[0.6666666666666666,\"rgb(206, 102, 147)\"],[0.8333333333333334,\"rgb(160, 89, 160)\"],[1.0,\"rgb(92, 83, 165)\"]]},\"margin\":{\"t\":60}},                        {\"responsive\": true}                    ).then(function(){\n",
              "                            \n",
              "var gd = document.getElementById('9756d488-e293-4070-aab6-c75c9240714b');\n",
              "var x = new MutationObserver(function (mutations, observer) {{\n",
              "        var display = window.getComputedStyle(gd).display;\n",
              "        if (!display || display === 'none') {{\n",
              "            console.log([gd, 'removed!']);\n",
              "            Plotly.purge(gd);\n",
              "            observer.disconnect();\n",
              "        }}\n",
              "}});\n",
              "\n",
              "// Listen for the removal of the full notebook cells\n",
              "var notebookContainer = gd.closest('#notebook-container');\n",
              "if (notebookContainer) {{\n",
              "    x.observe(notebookContainer, {childList: true});\n",
              "}}\n",
              "\n",
              "// Listen for the clearing of the current output cell\n",
              "var outputEl = gd.closest('.output');\n",
              "if (outputEl) {{\n",
              "    x.observe(outputEl, {childList: true});\n",
              "}}\n",
              "\n",
              "                        })                };                            </script>        </div>\n",
              "</body>\n",
              "</html>"
            ]
          },
          "metadata": {}
        }
      ]
    },
    {
      "cell_type": "markdown",
      "source": [
        "Statistical correlation between variables\n",
        "\n",
        "Strong correlation:\n",
        "\n",
        "Age has a moderate positive correlation with the presence of cardiovascular diseases (0.24). This is expected as the risk of developing cardiovascular diseases increases with age.\n",
        "The positive correlation between height and gender also reflects the biological link between these two factors (0.51).\n",
        "Weight has a moderate positive correlation with the presence of cardiovascular diseases (0.17).\n",
        "\n",
        "Glucose level and smoking show weak correlations with the presence of cardiovascular diseases.\n",
        "Alcohol consumption and level of physical activity also have weak correlations with the presence of cardiovascular diseases."
      ],
      "metadata": {
        "id": "qPnNFCd9q5mb"
      }
    }
  ]
}